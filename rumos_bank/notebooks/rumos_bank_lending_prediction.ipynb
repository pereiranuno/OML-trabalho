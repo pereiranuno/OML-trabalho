{
 "cells": [
  {
   "cell_type": "markdown",
   "metadata": {
    "id": "W41gagYVoTXS"
   },
   "source": [
    "# Final Exercice: The Rumos Bank \n",
    "\n",
    "The Rumos Bank é um banco que tem perdido bastante dinheiro devido à quantidade de créditos que fornece e que não são pagos dentro do prazo devido. \n",
    "\n",
    "    - Por cada cliente que se estima que não irá  pagar dentro do prazo e afinal paga, o banco tem um custo de 1000euros. \n",
    "\n",
    "    - Por cada cliente que se prevê como sendo um bom pagador e afinal não paga dentro do prazo, o banco tem um custo de 3000euros.\n",
    "\n",
    "\n",
    "Vocês, data scientists de topo,  são contratados para ajudar o banco a prever quais os clientes que não irão cumprir os prazos, para que este consiga uma melhor gestão dos fundos.\n",
    "\n",
    "Conseguem construir um modelo que ajude a detectar previamente e com sucesso os clientes que são maus pagadores?\n"
   ]
  },
  {
   "cell_type": "markdown",
   "metadata": {
    "id": "JYU-jH7AoTXT"
   },
   "source": [
    "Dataset: https://www.kaggle.com/uciml/default-of-credit-card-clients-dataset\n",
    "\n",
    "Variáveis disponíveis:\n",
    "\n",
    "    ID: ID of each client\n",
    "    LIMIT_BAL: Amount of given credit in NT dollars (includes individual and family/supplementary credit\n",
    "    SEX: Gender (1=male, 2=female)\n",
    "    EDUCATION: (1=graduate school, 2=university, 3=high school, 4=others, 5=unknown, 6=unknown)\n",
    "    MARRIAGE: Marital status (1=married, 2=single, 3=others)\n",
    "    AGE: Age in years\n",
    "    PAY_0: Repayment status in September, 2005 (-1=pay duly, 1=payment delay for one month, 2=payment delay for two months, ... 8=payment delay for eight months, 9=payment delay for nine months and above)\n",
    "    PAY_2: Repayment status in August, 2005 (scale same as above)\n",
    "    PAY_3: Repayment status in July, 2005 (scale same as above)\n",
    "    PAY_4: Repayment status in June, 2005 (scale same as above)\n",
    "    PAY_5: Repayment status in May, 2005 (scale same as above)\n",
    "    PAY_6: Repayment status in April, 2005 (scale same as above)\n",
    "    BILL_AMT1: Amount of bill statement in September, 2005 (NT dollar)\n",
    "    BILL_AMT2: Amount of bill statement in August, 2005 (NT dollar)\n",
    "    BILL_AMT3: Amount of bill statement in July, 2005 (NT dollar)\n",
    "    BILL_AMT4: Amount of bill statement in June, 2005 (NT dollar)\n",
    "    BILL_AMT5: Amount of bill statement in May, 2005 (NT dollar)\n",
    "    BILL_AMT6: Amount of bill statement in April, 2005 (NT dollar)\n",
    "    PAY_AMT1: Amount of previous payment in September, 2005 (NT dollar)\n",
    "    PAY_AMT2: Amount of previous payment in August, 2005 (NT dollar)\n",
    "    PAY_AMT3: Amount of previous payment in July, 2005 (NT dollar)\n",
    "    PAY_AMT4: Amount of previous payment in June, 2005 (NT dollar)\n",
    "    PAY_AMT5: Amount of previous payment in May, 2005 (NT dollar)\n",
    "    PAY_AMT6: Amount of previous payment in April, 2005 (NT dollar)\n",
    "    default.payment.next.month: Default payment (1=yes, 0=no)"
   ]
  },
  {
   "cell_type": "markdown",
   "metadata": {
    "id": "nVoQ5Qa8oTXU"
   },
   "source": [
    "#### Perguntas:\n",
    "\n",
    "    1. Quantas features estão disponíveis? Quantos clientes?\n",
    "    2. Quantos clientes têm no dataset que efectivamente foram maus pagadores? E quantos não foram?\n",
    "    3. Qual o modelo que levou a melhores resultados? Qual a métrica usada para comparar os diferentes modelos?\n",
    "    4. Quais são as features mais relevantes para decidir se um cliente tem mais propensão para ser mau pagador?\n",
    "    5. Qual seria o custo que o banco tem sem nenhum modelo?\n",
    "    6. Qual o custo que o banco passa a tar com o vosso modelo?"
   ]
  },
  {
   "cell_type": "markdown",
   "metadata": {
    "id": "B2_4cQvxoTXU"
   },
   "source": [
    "Com base na informação dada, podemos definir que:\n",
    "\n",
    "    True positive - Os maus pagadores são identificados correctamente.\n",
    "    True negative - Os bons pagadores são identificados correctamente.\n",
    "    False positive - Um bom pagador é identificado como sendo um mau pagador.\n",
    "    False negative - Um mau pagador é identificado como sendo um bom pagador."
   ]
  },
  {
   "cell_type": "markdown",
   "metadata": {},
   "source": [
    "---"
   ]
  },
  {
   "cell_type": "markdown",
   "metadata": {},
   "source": [
    "---"
   ]
  },
  {
   "cell_type": "markdown",
   "metadata": {},
   "source": [
    "### Bibliotecas"
   ]
  },
  {
   "cell_type": "markdown",
   "metadata": {},
   "source": [
    "---"
   ]
  },
  {
   "cell_type": "code",
   "execution_count": 3,
   "metadata": {
    "id": "Z4MjCm3SoTXV"
   },
   "outputs": [],
   "source": [
    "import pandas as pd\n",
    "import numpy as np\n",
    "import matplotlib.pyplot as plt\n",
    "from sklearn.metrics import  confusion_matrix, accuracy_score\n",
    "import pandas as pd\n",
    "from sklearn.model_selection import train_test_split\n",
    "from sklearn.preprocessing import MinMaxScaler\n",
    "from sklearn.model_selection import GridSearchCV\n",
    "from sklearn.ensemble import RandomForestClassifier\n",
    "from sklearn.linear_model import LogisticRegression\n",
    "from sklearn.neighbors import KNeighborsClassifier\n",
    "from sklearn.svm import SVC\n",
    "from sklearn import tree\n",
    "from sklearn.neural_network import MLPClassifier\n",
    "from sklearn.pipeline import Pipeline\n",
    "import time"
   ]
  },
  {
   "cell_type": "markdown",
   "metadata": {},
   "source": [
    "### Constantes\n",
    "---"
   ]
  },
  {
   "cell_type": "code",
   "execution_count": 4,
   "metadata": {},
   "outputs": [],
   "source": [
    "root_path = '../data/'\n",
    "seed = 42"
   ]
  },
  {
   "cell_type": "code",
   "execution_count": 5,
   "metadata": {
    "id": "X9ipTbvyoTXX"
   },
   "outputs": [],
   "source": [
    "df = pd.read_csv(root_path + 'lending_data.csv')"
   ]
  },
  {
   "cell_type": "code",
   "execution_count": 6,
   "metadata": {
    "colab": {
     "base_uri": "https://localhost:8080/",
     "height": 35
    },
    "id": "12BupRYpoTXZ",
    "outputId": "65933b5b-971b-45cc-c709-8ad6fadf5292"
   },
   "outputs": [
    {
     "data": {
      "text/plain": [
       "(30000, 25)"
      ]
     },
     "execution_count": 6,
     "metadata": {},
     "output_type": "execute_result"
    }
   ],
   "source": [
    "df.shape"
   ]
  },
  {
   "cell_type": "code",
   "execution_count": 7,
   "metadata": {
    "colab": {
     "base_uri": "https://localhost:8080/",
     "height": 222
    },
    "id": "Mp3_eARGoTXd",
    "outputId": "8c403771-8569-42b2-b140-3536b40f79fb"
   },
   "outputs": [
    {
     "data": {
      "text/html": [
       "<div>\n",
       "<style scoped>\n",
       "    .dataframe tbody tr th:only-of-type {\n",
       "        vertical-align: middle;\n",
       "    }\n",
       "\n",
       "    .dataframe tbody tr th {\n",
       "        vertical-align: top;\n",
       "    }\n",
       "\n",
       "    .dataframe thead th {\n",
       "        text-align: right;\n",
       "    }\n",
       "</style>\n",
       "<table border=\"1\" class=\"dataframe\">\n",
       "  <thead>\n",
       "    <tr style=\"text-align: right;\">\n",
       "      <th></th>\n",
       "      <th>ID</th>\n",
       "      <th>LIMIT_BAL</th>\n",
       "      <th>SEX</th>\n",
       "      <th>EDUCATION</th>\n",
       "      <th>MARRIAGE</th>\n",
       "      <th>AGE</th>\n",
       "      <th>PAY_0</th>\n",
       "      <th>PAY_2</th>\n",
       "      <th>PAY_3</th>\n",
       "      <th>PAY_4</th>\n",
       "      <th>...</th>\n",
       "      <th>BILL_AMT4</th>\n",
       "      <th>BILL_AMT5</th>\n",
       "      <th>BILL_AMT6</th>\n",
       "      <th>PAY_AMT1</th>\n",
       "      <th>PAY_AMT2</th>\n",
       "      <th>PAY_AMT3</th>\n",
       "      <th>PAY_AMT4</th>\n",
       "      <th>PAY_AMT5</th>\n",
       "      <th>PAY_AMT6</th>\n",
       "      <th>default.payment.next.month</th>\n",
       "    </tr>\n",
       "  </thead>\n",
       "  <tbody>\n",
       "    <tr>\n",
       "      <th>0</th>\n",
       "      <td>1</td>\n",
       "      <td>20000.0</td>\n",
       "      <td>2</td>\n",
       "      <td>2</td>\n",
       "      <td>1</td>\n",
       "      <td>24</td>\n",
       "      <td>2</td>\n",
       "      <td>2</td>\n",
       "      <td>-1</td>\n",
       "      <td>-1</td>\n",
       "      <td>...</td>\n",
       "      <td>0.0</td>\n",
       "      <td>0.0</td>\n",
       "      <td>0.0</td>\n",
       "      <td>0.0</td>\n",
       "      <td>689.0</td>\n",
       "      <td>0.0</td>\n",
       "      <td>0.0</td>\n",
       "      <td>0.0</td>\n",
       "      <td>0.0</td>\n",
       "      <td>1</td>\n",
       "    </tr>\n",
       "    <tr>\n",
       "      <th>1</th>\n",
       "      <td>2</td>\n",
       "      <td>120000.0</td>\n",
       "      <td>2</td>\n",
       "      <td>2</td>\n",
       "      <td>2</td>\n",
       "      <td>26</td>\n",
       "      <td>-1</td>\n",
       "      <td>2</td>\n",
       "      <td>0</td>\n",
       "      <td>0</td>\n",
       "      <td>...</td>\n",
       "      <td>3272.0</td>\n",
       "      <td>3455.0</td>\n",
       "      <td>3261.0</td>\n",
       "      <td>0.0</td>\n",
       "      <td>1000.0</td>\n",
       "      <td>1000.0</td>\n",
       "      <td>1000.0</td>\n",
       "      <td>0.0</td>\n",
       "      <td>2000.0</td>\n",
       "      <td>1</td>\n",
       "    </tr>\n",
       "    <tr>\n",
       "      <th>2</th>\n",
       "      <td>3</td>\n",
       "      <td>90000.0</td>\n",
       "      <td>2</td>\n",
       "      <td>2</td>\n",
       "      <td>2</td>\n",
       "      <td>34</td>\n",
       "      <td>0</td>\n",
       "      <td>0</td>\n",
       "      <td>0</td>\n",
       "      <td>0</td>\n",
       "      <td>...</td>\n",
       "      <td>14331.0</td>\n",
       "      <td>14948.0</td>\n",
       "      <td>15549.0</td>\n",
       "      <td>1518.0</td>\n",
       "      <td>1500.0</td>\n",
       "      <td>1000.0</td>\n",
       "      <td>1000.0</td>\n",
       "      <td>1000.0</td>\n",
       "      <td>5000.0</td>\n",
       "      <td>0</td>\n",
       "    </tr>\n",
       "    <tr>\n",
       "      <th>3</th>\n",
       "      <td>4</td>\n",
       "      <td>50000.0</td>\n",
       "      <td>2</td>\n",
       "      <td>2</td>\n",
       "      <td>1</td>\n",
       "      <td>37</td>\n",
       "      <td>0</td>\n",
       "      <td>0</td>\n",
       "      <td>0</td>\n",
       "      <td>0</td>\n",
       "      <td>...</td>\n",
       "      <td>28314.0</td>\n",
       "      <td>28959.0</td>\n",
       "      <td>29547.0</td>\n",
       "      <td>2000.0</td>\n",
       "      <td>2019.0</td>\n",
       "      <td>1200.0</td>\n",
       "      <td>1100.0</td>\n",
       "      <td>1069.0</td>\n",
       "      <td>1000.0</td>\n",
       "      <td>0</td>\n",
       "    </tr>\n",
       "    <tr>\n",
       "      <th>4</th>\n",
       "      <td>5</td>\n",
       "      <td>50000.0</td>\n",
       "      <td>1</td>\n",
       "      <td>2</td>\n",
       "      <td>1</td>\n",
       "      <td>57</td>\n",
       "      <td>-1</td>\n",
       "      <td>0</td>\n",
       "      <td>-1</td>\n",
       "      <td>0</td>\n",
       "      <td>...</td>\n",
       "      <td>20940.0</td>\n",
       "      <td>19146.0</td>\n",
       "      <td>19131.0</td>\n",
       "      <td>2000.0</td>\n",
       "      <td>36681.0</td>\n",
       "      <td>10000.0</td>\n",
       "      <td>9000.0</td>\n",
       "      <td>689.0</td>\n",
       "      <td>679.0</td>\n",
       "      <td>0</td>\n",
       "    </tr>\n",
       "  </tbody>\n",
       "</table>\n",
       "<p>5 rows × 25 columns</p>\n",
       "</div>"
      ],
      "text/plain": [
       "   ID  LIMIT_BAL  SEX  EDUCATION  MARRIAGE  AGE  PAY_0  PAY_2  PAY_3  PAY_4  \\\n",
       "0   1    20000.0    2          2         1   24      2      2     -1     -1   \n",
       "1   2   120000.0    2          2         2   26     -1      2      0      0   \n",
       "2   3    90000.0    2          2         2   34      0      0      0      0   \n",
       "3   4    50000.0    2          2         1   37      0      0      0      0   \n",
       "4   5    50000.0    1          2         1   57     -1      0     -1      0   \n",
       "\n",
       "   ...  BILL_AMT4  BILL_AMT5  BILL_AMT6  PAY_AMT1  PAY_AMT2  PAY_AMT3  \\\n",
       "0  ...        0.0        0.0        0.0       0.0     689.0       0.0   \n",
       "1  ...     3272.0     3455.0     3261.0       0.0    1000.0    1000.0   \n",
       "2  ...    14331.0    14948.0    15549.0    1518.0    1500.0    1000.0   \n",
       "3  ...    28314.0    28959.0    29547.0    2000.0    2019.0    1200.0   \n",
       "4  ...    20940.0    19146.0    19131.0    2000.0   36681.0   10000.0   \n",
       "\n",
       "   PAY_AMT4  PAY_AMT5  PAY_AMT6  default.payment.next.month  \n",
       "0       0.0       0.0       0.0                           1  \n",
       "1    1000.0       0.0    2000.0                           1  \n",
       "2    1000.0    1000.0    5000.0                           0  \n",
       "3    1100.0    1069.0    1000.0                           0  \n",
       "4    9000.0     689.0     679.0                           0  \n",
       "\n",
       "[5 rows x 25 columns]"
      ]
     },
     "execution_count": 7,
     "metadata": {},
     "output_type": "execute_result"
    }
   ],
   "source": [
    "df.head()"
   ]
  },
  {
   "cell_type": "code",
   "execution_count": 8,
   "metadata": {
    "colab": {
     "base_uri": "https://localhost:8080/",
     "height": 35
    },
    "id": "0lJt8GJcoTXk",
    "outputId": "dd54489b-beb1-44b3-ae4b-9741da84dfdd"
   },
   "outputs": [
    {
     "data": {
      "text/plain": [
       "30000"
      ]
     },
     "execution_count": 8,
     "metadata": {},
     "output_type": "execute_result"
    }
   ],
   "source": [
    "df.ID.nunique()"
   ]
  },
  {
   "cell_type": "markdown",
   "metadata": {
    "id": "sqAFRENhoTXm"
   },
   "source": [
    "#### 1. Quantas features estão disponíveis? Quantos clientes?\n",
    "\n",
    "    - Existem 24 features disponíveis no dataset.\n",
    "    - Existem 30000 clientes."
   ]
  },
  {
   "cell_type": "markdown",
   "metadata": {
    "id": "3YbHArONoTXn"
   },
   "source": [
    "Existem missing values?"
   ]
  },
  {
   "cell_type": "code",
   "execution_count": 9,
   "metadata": {
    "colab": {
     "base_uri": "https://localhost:8080/",
     "height": 35
    },
    "id": "BQ6pba_toTXn",
    "outputId": "21213044-1145-47f8-b782-aa960d4b6423"
   },
   "outputs": [
    {
     "data": {
      "text/plain": [
       "np.False_"
      ]
     },
     "execution_count": 9,
     "metadata": {},
     "output_type": "execute_result"
    }
   ],
   "source": [
    "df.isnull().values.any()"
   ]
  },
  {
   "cell_type": "markdown",
   "metadata": {
    "id": "sxP492KgoTXp"
   },
   "source": [
    "Existem o mesmo número de clientes nas duas classes?"
   ]
  },
  {
   "cell_type": "code",
   "execution_count": 10,
   "metadata": {
    "colab": {
     "base_uri": "https://localhost:8080/",
     "height": 87
    },
    "id": "GmTJYjZIoTXq",
    "outputId": "9fe95444-71ac-4f20-81fe-05cd14980f72"
   },
   "outputs": [
    {
     "data": {
      "text/plain": [
       "default.payment.next.month\n",
       "0    23364\n",
       "1     6636\n",
       "Name: default.payment.next.month, dtype: int64"
      ]
     },
     "execution_count": 10,
     "metadata": {},
     "output_type": "execute_result"
    }
   ],
   "source": [
    "df.groupby('default.payment.next.month')['default.payment.next.month'].count()"
   ]
  },
  {
   "cell_type": "markdown",
   "metadata": {
    "id": "DBOZGu0MoTXs"
   },
   "source": [
    "Não! O dataset é altamente desequilibrado.\n",
    "\n",
    "#### 2. Quantos clientes têm no dataset que efectivamente foram maus pagadores? E quantos não foram?\n",
    "\n",
    "    - 23,364 foram bons pagadores. 6,636 foram maus pagadores."
   ]
  },
  {
   "cell_type": "markdown",
   "metadata": {
    "id": "-0L7ahP1oTXt"
   },
   "source": [
    "Existem features não númericas?"
   ]
  },
  {
   "cell_type": "code",
   "execution_count": 11,
   "metadata": {
    "colab": {
     "base_uri": "https://localhost:8080/",
     "height": 468
    },
    "id": "rei2UvwboTXu",
    "outputId": "d9a0fa2d-ed30-48ff-e479-7de51bcf2234"
   },
   "outputs": [
    {
     "data": {
      "text/plain": [
       "ID                              int64\n",
       "LIMIT_BAL                     float64\n",
       "SEX                             int64\n",
       "EDUCATION                       int64\n",
       "MARRIAGE                        int64\n",
       "AGE                             int64\n",
       "PAY_0                           int64\n",
       "PAY_2                           int64\n",
       "PAY_3                           int64\n",
       "PAY_4                           int64\n",
       "PAY_5                           int64\n",
       "PAY_6                           int64\n",
       "BILL_AMT1                     float64\n",
       "BILL_AMT2                     float64\n",
       "BILL_AMT3                     float64\n",
       "BILL_AMT4                     float64\n",
       "BILL_AMT5                     float64\n",
       "BILL_AMT6                     float64\n",
       "PAY_AMT1                      float64\n",
       "PAY_AMT2                      float64\n",
       "PAY_AMT3                      float64\n",
       "PAY_AMT4                      float64\n",
       "PAY_AMT5                      float64\n",
       "PAY_AMT6                      float64\n",
       "default.payment.next.month      int64\n",
       "dtype: object"
      ]
     },
     "execution_count": 11,
     "metadata": {},
     "output_type": "execute_result"
    }
   ],
   "source": [
    "df.dtypes"
   ]
  },
  {
   "cell_type": "markdown",
   "metadata": {
    "id": "6lv_holtoTXx"
   },
   "source": [
    "Todas as features são númericas.\n",
    "\n",
    "Vamos retirar o ID do cliente:"
   ]
  },
  {
   "cell_type": "code",
   "execution_count": 12,
   "metadata": {
    "id": "bS6_8IecoTXx"
   },
   "outputs": [],
   "source": [
    "df = df.drop('ID', axis = 1)\n"
   ]
  },
  {
   "cell_type": "code",
   "execution_count": 13,
   "metadata": {},
   "outputs": [],
   "source": [
    "df = df.sample(frac=0.1, random_state=seed)"
   ]
  },
  {
   "cell_type": "code",
   "execution_count": 14,
   "metadata": {},
   "outputs": [
    {
     "data": {
      "text/html": [
       "<div>\n",
       "<style scoped>\n",
       "    .dataframe tbody tr th:only-of-type {\n",
       "        vertical-align: middle;\n",
       "    }\n",
       "\n",
       "    .dataframe tbody tr th {\n",
       "        vertical-align: top;\n",
       "    }\n",
       "\n",
       "    .dataframe thead th {\n",
       "        text-align: right;\n",
       "    }\n",
       "</style>\n",
       "<table border=\"1\" class=\"dataframe\">\n",
       "  <thead>\n",
       "    <tr style=\"text-align: right;\">\n",
       "      <th></th>\n",
       "      <th>LIMIT_BAL</th>\n",
       "      <th>SEX</th>\n",
       "      <th>EDUCATION</th>\n",
       "      <th>MARRIAGE</th>\n",
       "      <th>AGE</th>\n",
       "      <th>PAY_0</th>\n",
       "      <th>PAY_2</th>\n",
       "      <th>PAY_3</th>\n",
       "      <th>PAY_4</th>\n",
       "      <th>PAY_5</th>\n",
       "      <th>...</th>\n",
       "      <th>BILL_AMT4</th>\n",
       "      <th>BILL_AMT5</th>\n",
       "      <th>BILL_AMT6</th>\n",
       "      <th>PAY_AMT1</th>\n",
       "      <th>PAY_AMT2</th>\n",
       "      <th>PAY_AMT3</th>\n",
       "      <th>PAY_AMT4</th>\n",
       "      <th>PAY_AMT5</th>\n",
       "      <th>PAY_AMT6</th>\n",
       "      <th>default.payment.next.month</th>\n",
       "    </tr>\n",
       "  </thead>\n",
       "  <tbody>\n",
       "    <tr>\n",
       "      <th>29847</th>\n",
       "      <td>310000.0</td>\n",
       "      <td>1</td>\n",
       "      <td>4</td>\n",
       "      <td>1</td>\n",
       "      <td>46</td>\n",
       "      <td>-1</td>\n",
       "      <td>-1</td>\n",
       "      <td>-1</td>\n",
       "      <td>-1</td>\n",
       "      <td>-1</td>\n",
       "      <td>...</td>\n",
       "      <td>91238.0</td>\n",
       "      <td>18293.0</td>\n",
       "      <td>14332.0</td>\n",
       "      <td>10414.0</td>\n",
       "      <td>21229.0</td>\n",
       "      <td>91254.0</td>\n",
       "      <td>18293.0</td>\n",
       "      <td>14332.0</td>\n",
       "      <td>15785.0</td>\n",
       "      <td>0</td>\n",
       "    </tr>\n",
       "    <tr>\n",
       "      <th>11788</th>\n",
       "      <td>80000.0</td>\n",
       "      <td>1</td>\n",
       "      <td>1</td>\n",
       "      <td>2</td>\n",
       "      <td>27</td>\n",
       "      <td>-2</td>\n",
       "      <td>-2</td>\n",
       "      <td>-2</td>\n",
       "      <td>-2</td>\n",
       "      <td>-2</td>\n",
       "      <td>...</td>\n",
       "      <td>12205.0</td>\n",
       "      <td>3487.0</td>\n",
       "      <td>24764.0</td>\n",
       "      <td>2003.0</td>\n",
       "      <td>2019.0</td>\n",
       "      <td>12241.0</td>\n",
       "      <td>3510.0</td>\n",
       "      <td>24843.0</td>\n",
       "      <td>4001.0</td>\n",
       "      <td>0</td>\n",
       "    </tr>\n",
       "    <tr>\n",
       "      <th>23068</th>\n",
       "      <td>200000.0</td>\n",
       "      <td>2</td>\n",
       "      <td>2</td>\n",
       "      <td>1</td>\n",
       "      <td>38</td>\n",
       "      <td>-2</td>\n",
       "      <td>-2</td>\n",
       "      <td>-2</td>\n",
       "      <td>-2</td>\n",
       "      <td>-2</td>\n",
       "      <td>...</td>\n",
       "      <td>2185.0</td>\n",
       "      <td>6718.0</td>\n",
       "      <td>2298.0</td>\n",
       "      <td>6002.0</td>\n",
       "      <td>2400.0</td>\n",
       "      <td>2185.0</td>\n",
       "      <td>6718.0</td>\n",
       "      <td>2298.0</td>\n",
       "      <td>2851.0</td>\n",
       "      <td>0</td>\n",
       "    </tr>\n",
       "    <tr>\n",
       "      <th>9189</th>\n",
       "      <td>20000.0</td>\n",
       "      <td>2</td>\n",
       "      <td>3</td>\n",
       "      <td>1</td>\n",
       "      <td>35</td>\n",
       "      <td>0</td>\n",
       "      <td>0</td>\n",
       "      <td>2</td>\n",
       "      <td>2</td>\n",
       "      <td>0</td>\n",
       "      <td>...</td>\n",
       "      <td>18024.0</td>\n",
       "      <td>18434.0</td>\n",
       "      <td>19826.0</td>\n",
       "      <td>3000.0</td>\n",
       "      <td>1000.0</td>\n",
       "      <td>0.0</td>\n",
       "      <td>700.0</td>\n",
       "      <td>1700.0</td>\n",
       "      <td>0.0</td>\n",
       "      <td>1</td>\n",
       "    </tr>\n",
       "    <tr>\n",
       "      <th>4125</th>\n",
       "      <td>80000.0</td>\n",
       "      <td>2</td>\n",
       "      <td>3</td>\n",
       "      <td>2</td>\n",
       "      <td>32</td>\n",
       "      <td>0</td>\n",
       "      <td>0</td>\n",
       "      <td>0</td>\n",
       "      <td>0</td>\n",
       "      <td>0</td>\n",
       "      <td>...</td>\n",
       "      <td>79387.0</td>\n",
       "      <td>81593.0</td>\n",
       "      <td>80254.0</td>\n",
       "      <td>2900.0</td>\n",
       "      <td>3200.0</td>\n",
       "      <td>3000.0</td>\n",
       "      <td>3500.0</td>\n",
       "      <td>3100.0</td>\n",
       "      <td>6200.0</td>\n",
       "      <td>0</td>\n",
       "    </tr>\n",
       "    <tr>\n",
       "      <th>7477</th>\n",
       "      <td>170000.0</td>\n",
       "      <td>1</td>\n",
       "      <td>2</td>\n",
       "      <td>2</td>\n",
       "      <td>31</td>\n",
       "      <td>-1</td>\n",
       "      <td>-1</td>\n",
       "      <td>-1</td>\n",
       "      <td>-1</td>\n",
       "      <td>0</td>\n",
       "      <td>...</td>\n",
       "      <td>9283.0</td>\n",
       "      <td>2908.0</td>\n",
       "      <td>2908.0</td>\n",
       "      <td>3408.0</td>\n",
       "      <td>2908.0</td>\n",
       "      <td>9283.0</td>\n",
       "      <td>0.0</td>\n",
       "      <td>2908.0</td>\n",
       "      <td>7163.0</td>\n",
       "      <td>0</td>\n",
       "    </tr>\n",
       "    <tr>\n",
       "      <th>28317</th>\n",
       "      <td>10000.0</td>\n",
       "      <td>2</td>\n",
       "      <td>2</td>\n",
       "      <td>1</td>\n",
       "      <td>29</td>\n",
       "      <td>0</td>\n",
       "      <td>0</td>\n",
       "      <td>0</td>\n",
       "      <td>0</td>\n",
       "      <td>0</td>\n",
       "      <td>...</td>\n",
       "      <td>8777.0</td>\n",
       "      <td>8956.0</td>\n",
       "      <td>9731.0</td>\n",
       "      <td>1265.0</td>\n",
       "      <td>1200.0</td>\n",
       "      <td>1500.0</td>\n",
       "      <td>400.0</td>\n",
       "      <td>1000.0</td>\n",
       "      <td>273.0</td>\n",
       "      <td>0</td>\n",
       "    </tr>\n",
       "    <tr>\n",
       "      <th>17789</th>\n",
       "      <td>20000.0</td>\n",
       "      <td>1</td>\n",
       "      <td>2</td>\n",
       "      <td>2</td>\n",
       "      <td>27</td>\n",
       "      <td>-1</td>\n",
       "      <td>2</td>\n",
       "      <td>-1</td>\n",
       "      <td>-1</td>\n",
       "      <td>-1</td>\n",
       "      <td>...</td>\n",
       "      <td>0.0</td>\n",
       "      <td>780.0</td>\n",
       "      <td>0.0</td>\n",
       "      <td>0.0</td>\n",
       "      <td>390.0</td>\n",
       "      <td>0.0</td>\n",
       "      <td>780.0</td>\n",
       "      <td>0.0</td>\n",
       "      <td>0.0</td>\n",
       "      <td>0</td>\n",
       "    </tr>\n",
       "    <tr>\n",
       "      <th>1804</th>\n",
       "      <td>450000.0</td>\n",
       "      <td>1</td>\n",
       "      <td>1</td>\n",
       "      <td>2</td>\n",
       "      <td>31</td>\n",
       "      <td>-1</td>\n",
       "      <td>-1</td>\n",
       "      <td>-1</td>\n",
       "      <td>-1</td>\n",
       "      <td>-1</td>\n",
       "      <td>...</td>\n",
       "      <td>6271.0</td>\n",
       "      <td>2135.0</td>\n",
       "      <td>2546.0</td>\n",
       "      <td>3629.0</td>\n",
       "      <td>3271.0</td>\n",
       "      <td>6271.0</td>\n",
       "      <td>2135.0</td>\n",
       "      <td>2546.0</td>\n",
       "      <td>4877.0</td>\n",
       "      <td>1</td>\n",
       "    </tr>\n",
       "    <tr>\n",
       "      <th>25575</th>\n",
       "      <td>280000.0</td>\n",
       "      <td>2</td>\n",
       "      <td>2</td>\n",
       "      <td>2</td>\n",
       "      <td>30</td>\n",
       "      <td>0</td>\n",
       "      <td>0</td>\n",
       "      <td>0</td>\n",
       "      <td>0</td>\n",
       "      <td>0</td>\n",
       "      <td>...</td>\n",
       "      <td>197666.0</td>\n",
       "      <td>152084.0</td>\n",
       "      <td>149887.0</td>\n",
       "      <td>12873.0</td>\n",
       "      <td>135477.0</td>\n",
       "      <td>6480.0</td>\n",
       "      <td>4026.0</td>\n",
       "      <td>4153.0</td>\n",
       "      <td>3014.0</td>\n",
       "      <td>0</td>\n",
       "    </tr>\n",
       "  </tbody>\n",
       "</table>\n",
       "<p>10 rows × 24 columns</p>\n",
       "</div>"
      ],
      "text/plain": [
       "       LIMIT_BAL  SEX  EDUCATION  MARRIAGE  AGE  PAY_0  PAY_2  PAY_3  PAY_4  \\\n",
       "29847   310000.0    1          4         1   46     -1     -1     -1     -1   \n",
       "11788    80000.0    1          1         2   27     -2     -2     -2     -2   \n",
       "23068   200000.0    2          2         1   38     -2     -2     -2     -2   \n",
       "9189     20000.0    2          3         1   35      0      0      2      2   \n",
       "4125     80000.0    2          3         2   32      0      0      0      0   \n",
       "7477    170000.0    1          2         2   31     -1     -1     -1     -1   \n",
       "28317    10000.0    2          2         1   29      0      0      0      0   \n",
       "17789    20000.0    1          2         2   27     -1      2     -1     -1   \n",
       "1804    450000.0    1          1         2   31     -1     -1     -1     -1   \n",
       "25575   280000.0    2          2         2   30      0      0      0      0   \n",
       "\n",
       "       PAY_5  ...  BILL_AMT4  BILL_AMT5  BILL_AMT6  PAY_AMT1  PAY_AMT2  \\\n",
       "29847     -1  ...    91238.0    18293.0    14332.0   10414.0   21229.0   \n",
       "11788     -2  ...    12205.0     3487.0    24764.0    2003.0    2019.0   \n",
       "23068     -2  ...     2185.0     6718.0     2298.0    6002.0    2400.0   \n",
       "9189       0  ...    18024.0    18434.0    19826.0    3000.0    1000.0   \n",
       "4125       0  ...    79387.0    81593.0    80254.0    2900.0    3200.0   \n",
       "7477       0  ...     9283.0     2908.0     2908.0    3408.0    2908.0   \n",
       "28317      0  ...     8777.0     8956.0     9731.0    1265.0    1200.0   \n",
       "17789     -1  ...        0.0      780.0        0.0       0.0     390.0   \n",
       "1804      -1  ...     6271.0     2135.0     2546.0    3629.0    3271.0   \n",
       "25575      0  ...   197666.0   152084.0   149887.0   12873.0  135477.0   \n",
       "\n",
       "       PAY_AMT3  PAY_AMT4  PAY_AMT5  PAY_AMT6  default.payment.next.month  \n",
       "29847   91254.0   18293.0   14332.0   15785.0                           0  \n",
       "11788   12241.0    3510.0   24843.0    4001.0                           0  \n",
       "23068    2185.0    6718.0    2298.0    2851.0                           0  \n",
       "9189        0.0     700.0    1700.0       0.0                           1  \n",
       "4125     3000.0    3500.0    3100.0    6200.0                           0  \n",
       "7477     9283.0       0.0    2908.0    7163.0                           0  \n",
       "28317    1500.0     400.0    1000.0     273.0                           0  \n",
       "17789       0.0     780.0       0.0       0.0                           0  \n",
       "1804     6271.0    2135.0    2546.0    4877.0                           1  \n",
       "25575    6480.0    4026.0    4153.0    3014.0                           0  \n",
       "\n",
       "[10 rows x 24 columns]"
      ]
     },
     "execution_count": 14,
     "metadata": {},
     "output_type": "execute_result"
    }
   ],
   "source": [
    "df.sample(10)"
   ]
  },
  {
   "cell_type": "markdown",
   "metadata": {
    "id": "1nNKn5KeoTXz"
   },
   "source": [
    "Vamos então dividir o dataset em treino e teste:"
   ]
  },
  {
   "cell_type": "code",
   "execution_count": 15,
   "metadata": {
    "id": "cjfA10IboTX0"
   },
   "outputs": [],
   "source": [
    "train_set, test_set = train_test_split(df, test_size = 0.2, random_state = seed)"
   ]
  },
  {
   "cell_type": "code",
   "execution_count": 16,
   "metadata": {
    "id": "-6k8pIbEoTX2"
   },
   "outputs": [],
   "source": [
    "X_train = train_set.drop(['default.payment.next.month'], axis = 'columns')\n",
    "y_train = train_set['default.payment.next.month']\n",
    "\n",
    "X_test = test_set.drop(['default.payment.next.month'], axis = 1)\n",
    "y_test = test_set['default.payment.next.month']"
   ]
  },
  {
   "cell_type": "markdown",
   "metadata": {
    "id": "1t0TwGgGoTX4"
   },
   "source": [
    "Normalização:"
   ]
  },
  {
   "cell_type": "code",
   "execution_count": 17,
   "metadata": {
    "id": "iTFYPGnloTX4"
   },
   "outputs": [],
   "source": [
    "scaler = MinMaxScaler()\n",
    "\n",
    "features_names = X_train.columns\n",
    "\n",
    "X_train = scaler.fit_transform(X_train)\n",
    "X_train = pd.DataFrame(X_train, columns = features_names)\n",
    "\n",
    "X_test = scaler.transform(X_test)\n",
    "X_test = pd.DataFrame(X_test, columns = features_names)"
   ]
  },
  {
   "cell_type": "markdown",
   "metadata": {
    "id": "4PBykJJpoTX7"
   },
   "source": [
    "Antes de iniciar, vamos calcular a baseline, ou seja, o custo que temos sem nenhum modelo.\n",
    "\n",
    "$$totalCost = 1000∗FP+3000∗FN$$"
   ]
  },
  {
   "cell_type": "code",
   "execution_count": 18,
   "metadata": {
    "id": "AKL-L-7moTX7"
   },
   "outputs": [],
   "source": [
    "y_preds_all_bad = np.ones(y_test.shape) "
   ]
  },
  {
   "cell_type": "code",
   "execution_count": 19,
   "metadata": {
    "colab": {
     "base_uri": "https://localhost:8080/",
     "height": 87
    },
    "id": "2UyI8OkVoTX-",
    "outputId": "2e853506-14ca-4165-d945-eee653eb97da"
   },
   "outputs": [
    {
     "name": "stdout",
     "output_type": "stream",
     "text": [
      "Number of True Negatives: 0\n",
      "Number of True Positives: 125\n",
      "Number of False Negatives: 0\n",
      "Number of False Positives: 475\n"
     ]
    }
   ],
   "source": [
    "tn, fp, fn, tp = confusion_matrix(y_test, y_preds_all_bad).ravel()\n",
    "\n",
    "print('Number of True Negatives:', tn)\n",
    "print('Number of True Positives:', tp)\n",
    "print('Number of False Negatives:', fn)\n",
    "print('Number of False Positives:', fp)"
   ]
  },
  {
   "cell_type": "code",
   "execution_count": 20,
   "metadata": {
    "colab": {
     "base_uri": "https://localhost:8080/",
     "height": 35
    },
    "id": "Wojzq6oDoTYB",
    "outputId": "a8319123-54ab-4237-fb86-3a512e066acb"
   },
   "outputs": [
    {
     "name": "stdout",
     "output_type": "stream",
     "text": [
      "Total Cost: 475000\n"
     ]
    }
   ],
   "source": [
    "print('Total Cost:', fp*1000)"
   ]
  },
  {
   "cell_type": "code",
   "execution_count": 21,
   "metadata": {
    "colab": {
     "base_uri": "https://localhost:8080/",
     "height": 35
    },
    "id": "MWa7w4BZoTYE",
    "outputId": "80964cf4-34de-4fdc-ae02-eace4973d724"
   },
   "outputs": [
    {
     "data": {
      "text/plain": [
       "0.20833333333333334"
      ]
     },
     "execution_count": 21,
     "metadata": {},
     "output_type": "execute_result"
    }
   ],
   "source": [
    "accuracy_score(y_test, y_preds_all_bad)"
   ]
  },
  {
   "cell_type": "markdown",
   "metadata": {
    "id": "adm4iMnooTYH"
   },
   "source": [
    "Se todos os clientes fossem considerados como maus pagadores, o banco teria um custo de 4,687,000 Euros."
   ]
  },
  {
   "cell_type": "code",
   "execution_count": 22,
   "metadata": {
    "colab": {
     "base_uri": "https://localhost:8080/",
     "height": 87
    },
    "id": "qljaMtZmoTYI",
    "outputId": "21519186-ac27-47ba-bed6-3303e2e907cd"
   },
   "outputs": [
    {
     "name": "stdout",
     "output_type": "stream",
     "text": [
      "Number of True Negatives: 475\n",
      "Number of True Positives: 0\n",
      "Number of False Negatives: 125\n",
      "Number of False Positives: 0\n"
     ]
    }
   ],
   "source": [
    "y_preds_all_good = np.zeros(y_test.shape) \n",
    "\n",
    "tn, fp, fn, tp = confusion_matrix(y_test, y_preds_all_good).ravel()\n",
    "\n",
    "print('Number of True Negatives:', tn)\n",
    "print('Number of True Positives:', tp)\n",
    "print('Number of False Negatives:', fn)\n",
    "print('Number of False Positives:', fp)"
   ]
  },
  {
   "cell_type": "code",
   "execution_count": 23,
   "metadata": {
    "colab": {
     "base_uri": "https://localhost:8080/",
     "height": 35
    },
    "id": "BL5U0I2xoTYL",
    "outputId": "289f031d-c9b4-4b25-d640-eb5e234884cf"
   },
   "outputs": [
    {
     "name": "stdout",
     "output_type": "stream",
     "text": [
      "Total Cost: 375000\n"
     ]
    }
   ],
   "source": [
    "print('Total Cost:', fn*3000)"
   ]
  },
  {
   "cell_type": "code",
   "execution_count": 24,
   "metadata": {
    "colab": {
     "base_uri": "https://localhost:8080/",
     "height": 35
    },
    "id": "BsF5qd42oTYO",
    "outputId": "23f39bfc-63b6-495d-ccba-964af157aa63"
   },
   "outputs": [
    {
     "data": {
      "text/plain": [
       "0.7916666666666666"
      ]
     },
     "execution_count": 24,
     "metadata": {},
     "output_type": "execute_result"
    }
   ],
   "source": [
    "accuracy_score(y_test, y_preds_all_good)"
   ]
  },
  {
   "cell_type": "markdown",
   "metadata": {
    "id": "mFTIDzoxoTYQ"
   },
   "source": [
    "Se todos os clientes fossem considerados bons pagadores, o banco teria um custo de 3,939,000 Euros."
   ]
  },
  {
   "cell_type": "code",
   "execution_count": 25,
   "metadata": {
    "id": "rM-AwWw_oTYQ"
   },
   "outputs": [],
   "source": [
    "def total_cost(y_test, y_preds, threshold = 0.5):\n",
    "    \n",
    "    tn, fp, fn, tp = confusion_matrix(y_test == 1, y_preds > threshold).ravel()\n",
    "    \n",
    "    cost_fn = fn*3000\n",
    "    cost_fp = fp*1000\n",
    "    \n",
    "    return cost_fn + cost_fp    "
   ]
  },
  {
   "cell_type": "code",
   "execution_count": 26,
   "metadata": {},
   "outputs": [],
   "source": [
    "def min_cost_threshold(y_test, y_preds,title):\n",
    "    costs = {}\n",
    "\n",
    "    for threshold in np.arange(0, 1.1, 0.1):\n",
    "        costs[round(threshold, 1)] = total_cost(y_test, y_preds, threshold=threshold)\n",
    "\n",
    "    # Obter threshold e custo mínimo\n",
    "    min_threshold = min(costs, key=costs.get)\n",
    "    min_cost = costs[min_threshold]\n",
    "\n",
    "\n",
    "    plt.plot(list(costs.keys()),list(costs.values()))\n",
    "    plt.ylabel('Cost')\n",
    "    plt.xlabel('Threshold')\n",
    "    if title:\n",
    "        plt.title(title)\n",
    "    plt.grid(True)\n",
    "    plt.show()\n",
    "\n",
    "    return min_threshold, min_cost"
   ]
  },
  {
   "cell_type": "code",
   "execution_count": 44,
   "metadata": {},
   "outputs": [],
   "source": [
    "def plot_bar_metric(data, x_col, y_col, x_label=\"X\", y_label=\"Y\", title=\"Gráfico de Barras\"):\n",
    "    \"\"\"\n",
    "    Gráfico de barras base em colunas especificadas.\n",
    "\n",
    "    Parâmetros:\n",
    "    - data: Lista de dicionários ou DataFrame.\n",
    "    - x_col: Nome da coluna para o eixo X (ex: 'model_name').\n",
    "    - y_col: Nome da coluna para o eixo Y (ex: 'training_time', 'minimum_cost').\n",
    "    - x_label: Rótulo do eixo X.\n",
    "    - y_label: Rótulo do eixo Y.\n",
    "    - title: Título do gráfico.\n",
    "    \"\"\"\n",
    "    df = pd.DataFrame(data)\n",
    "    df = df.sort_values(by=y_col, ascending=False)\n",
    "\n",
    "    plt.figure(figsize=(10, 6))\n",
    "    bars = plt.bar(df[x_col], df[y_col])\n",
    "\n",
    "    for bar in bars:\n",
    "        height = bar.get_height()\n",
    "        plt.text(bar.get_x() + bar.get_width() / 2, height,\n",
    "                 f'{height:.2f}', ha='center', va='bottom',\n",
    "                 fontsize=12, color='black', fontweight='bold')\n",
    "\n",
    "    plt.title(title)\n",
    "    plt.ylabel(y_label)\n",
    "    plt.xlabel(x_label)\n",
    "    plt.xticks(rotation=45)\n",
    "    plt.grid(axis='y', linestyle='--', alpha=0.7)\n",
    "    plt.tight_layout()\n",
    "    plt.show()"
   ]
  },
  {
   "cell_type": "code",
   "execution_count": 48,
   "metadata": {},
   "outputs": [],
   "source": [
    "def get_best_model_by_cost(df, cost_col='minimum_cost', model_col='model_name'):\n",
    "    \"\"\"\n",
    "    Retorna o modelo com o menor custo e o respetivo valor do custo.\n",
    "\n",
    "    Parâmetros:\n",
    "    - df: DataFrame com os resultados dos modelos.\n",
    "    - cost_col: Nome da coluna com os custos (default: 'minimum_cost').\n",
    "    - model_col: Nome da coluna com o nome dos modelos (default: 'model_name').\n",
    "\n",
    "    Retorna:\n",
    "    - Tuple: (nome_modelo, valor_custo)\n",
    "    \"\"\"\n",
    "    if df.empty:\n",
    "        print(\"DataFrame está vazio.\")\n",
    "        return None, None\n",
    "\n",
    "    best_row = df.loc[df[cost_col].idxmin()]\n",
    "    return best_row[model_col], best_row[cost_col]"
   ]
  },
  {
   "cell_type": "markdown",
   "metadata": {},
   "source": [
    "#### Avaliação Modelos Machine Learning"
   ]
  },
  {
   "cell_type": "markdown",
   "metadata": {},
   "source": [
    "---"
   ]
  },
  {
   "cell_type": "code",
   "execution_count": 28,
   "metadata": {},
   "outputs": [],
   "source": [
    "models_and_params = [\n",
    "\n",
    "    (\"logistic_regression\",\n",
    "     Pipeline([\n",
    "         (\"Classifier\", LogisticRegression(max_iter=500, solver='lbfgs', random_state=seed, class_weight='balanced'))\n",
    "     ]),\n",
    "     {\n",
    "         \"Classifier__C\": [0.001, 0.01, 0.1, 1, 10, 100]\n",
    "     }),\n",
    "\n",
    "    (\"knn\",\n",
    "     Pipeline([\n",
    "         (\"Classifier\", KNeighborsClassifier())\n",
    "     ]),\n",
    "     {\n",
    "         \"Classifier__n_neighbors\": list(range(1, 10))\n",
    "     }),\n",
    "\n",
    "    (\"svc\",\n",
    "     Pipeline([\n",
    "         (\"Classifier\", SVC(random_state=seed, class_weight='balanced', gamma='scale', probability=True, verbose=True))\n",
    "     ]),\n",
    "     {\n",
    "         \"Classifier__C\": [0.1, 1, 10],\n",
    "         \"Classifier__kernel\": ['rbf', 'linear']\n",
    "     }),\n",
    "\n",
    "    (\"decision_tree\",\n",
    "     Pipeline([\n",
    "         (\"Classifier\", tree.DecisionTreeClassifier(random_state=seed, class_weight='balanced'))\n",
    "     ]),\n",
    "     {\n",
    "         \"Classifier__max_depth\": [3, 6],\n",
    "         \"Classifier__min_samples_split\": [2, 4, 10]\n",
    "     }),\n",
    "\n",
    "    (\"random_forest\",\n",
    "     Pipeline([\n",
    "         (\"Classifier\", RandomForestClassifier(random_state=seed, class_weight='balanced'))\n",
    "     ]),\n",
    "     {\n",
    "         \"Classifier__n_estimators\": [10, 100, 300, 1000]\n",
    "     }),\n",
    "\n",
    "    (\"mlp\",\n",
    "     Pipeline([\n",
    "         (\"Classifier\", MLPClassifier(solver='lbfgs', random_state=seed, max_iter=1000))\n",
    "     ]),\n",
    "     {\n",
    "         \"Classifier__hidden_layer_sizes\": [(20,), (20, 10), (20, 10, 2)],\n",
    "         \"Classifier__learning_rate_init\": [0.0001, 0.001, 0.01, 0.1]\n",
    "     }),\n",
    "]"
   ]
  },
  {
   "cell_type": "code",
   "execution_count": 35,
   "metadata": {},
   "outputs": [
    {
     "data": {
      "image/png": "[encoded data removed]",
      "text/plain": [
       "<Figure size 640x480 with 1 Axes>"
      ]
     },
     "metadata": {},
     "output_type": "display_data"
    },
    {
     "name": "stdout",
     "output_type": "stream",
     "text": [
      "MinCost: (np.float64(0.6), np.int64(276000))\n",
      "Finalizado: logistic_regression  | Accuracy: 0.6833\n"
     ]
    },
    {
     "data": {
      "image/png": "[encoded data removed]",
      "text/plain": [
       "<Figure size 640x480 with 1 Axes>"
      ]
     },
     "metadata": {},
     "output_type": "display_data"
    },
    {
     "name": "stdout",
     "output_type": "stream",
     "text": [
      "MinCost: (np.float64(0.4), np.int64(271000))\n",
      "Finalizado: knn  | Accuracy: 0.8050\n",
      "[LibSVM][LibSVM][LibSVM][LibSVM][LibSVM][LibSVM][LibSVM][LibSVM][LibSVM][LibSVM][LibSVM][LibSVM][LibSVM][LibSVM][LibSVM][LibSVM][LibSVM][LibSVM][LibSVM][LibSVM][LibSVM][LibSVM][LibSVM][LibSVM][LibSVM][LibSVM][LibSVM][LibSVM][LibSVM][LibSVM][LibSVM]"
     ]
    },
    {
     "data": {
      "image/png": "[encoded data removed]",
      "text/plain": [
       "<Figure size 640x480 with 1 Axes>"
      ]
     },
     "metadata": {},
     "output_type": "display_data"
    },
    {
     "name": "stdout",
     "output_type": "stream",
     "text": [
      "MinCost: (np.float64(0.3), np.int64(242000))\n",
      "Finalizado: svc  | Accuracy: 0.8150\n"
     ]
    },
    {
     "data": {
      "image/png": "[encoded data removed]",
      "text/plain": [
       "<Figure size 640x480 with 1 Axes>"
      ]
     },
     "metadata": {},
     "output_type": "display_data"
    },
    {
     "name": "stdout",
     "output_type": "stream",
     "text": [
      "MinCost: (np.float64(0.7), np.int64(239000))\n",
      "Finalizado: decision_tree  | Accuracy: 0.7700\n"
     ]
    },
    {
     "data": {
      "image/png": "[encoded data removed]",
      "text/plain": [
       "<Figure size 640x480 with 1 Axes>"
      ]
     },
     "metadata": {},
     "output_type": "display_data"
    },
    {
     "name": "stdout",
     "output_type": "stream",
     "text": [
      "MinCost: (np.float64(0.3), np.int64(247000))\n",
      "Finalizado: random_forest  | Accuracy: 0.8050\n"
     ]
    },
    {
     "name": "stderr",
     "output_type": "stream",
     "text": [
      "c:\\Users\\PereiraRodrigues\\miniconda3\\envs\\rumos_bank_lending\\Lib\\site-packages\\sklearn\\neural_network\\_multilayer_perceptron.py:546: ConvergenceWarning: lbfgs failed to converge (status=1):\n",
      "STOP: TOTAL NO. OF ITERATIONS REACHED LIMIT.\n",
      "\n",
      "Increase the number of iterations (max_iter) or scale the data as shown in:\n",
      "    https://scikit-learn.org/stable/modules/preprocessing.html\n",
      "  self.n_iter_ = _check_optimize_result(\"lbfgs\", opt_res, self.max_iter)\n",
      "c:\\Users\\PereiraRodrigues\\miniconda3\\envs\\rumos_bank_lending\\Lib\\site-packages\\sklearn\\neural_network\\_multilayer_perceptron.py:546: ConvergenceWarning: lbfgs failed to converge (status=1):\n",
      "STOP: TOTAL NO. OF ITERATIONS REACHED LIMIT.\n",
      "\n",
      "Increase the number of iterations (max_iter) or scale the data as shown in:\n",
      "    https://scikit-learn.org/stable/modules/preprocessing.html\n",
      "  self.n_iter_ = _check_optimize_result(\"lbfgs\", opt_res, self.max_iter)\n",
      "c:\\Users\\PereiraRodrigues\\miniconda3\\envs\\rumos_bank_lending\\Lib\\site-packages\\sklearn\\neural_network\\_multilayer_perceptron.py:546: ConvergenceWarning: lbfgs failed to converge (status=1):\n",
      "STOP: TOTAL NO. OF ITERATIONS REACHED LIMIT.\n",
      "\n",
      "Increase the number of iterations (max_iter) or scale the data as shown in:\n",
      "    https://scikit-learn.org/stable/modules/preprocessing.html\n",
      "  self.n_iter_ = _check_optimize_result(\"lbfgs\", opt_res, self.max_iter)\n",
      "c:\\Users\\PereiraRodrigues\\miniconda3\\envs\\rumos_bank_lending\\Lib\\site-packages\\sklearn\\neural_network\\_multilayer_perceptron.py:546: ConvergenceWarning: lbfgs failed to converge (status=1):\n",
      "STOP: TOTAL NO. OF ITERATIONS REACHED LIMIT.\n",
      "\n",
      "Increase the number of iterations (max_iter) or scale the data as shown in:\n",
      "    https://scikit-learn.org/stable/modules/preprocessing.html\n",
      "  self.n_iter_ = _check_optimize_result(\"lbfgs\", opt_res, self.max_iter)\n",
      "c:\\Users\\PereiraRodrigues\\miniconda3\\envs\\rumos_bank_lending\\Lib\\site-packages\\sklearn\\neural_network\\_multilayer_perceptron.py:546: ConvergenceWarning: lbfgs failed to converge (status=1):\n",
      "STOP: TOTAL NO. OF ITERATIONS REACHED LIMIT.\n",
      "\n",
      "Increase the number of iterations (max_iter) or scale the data as shown in:\n",
      "    https://scikit-learn.org/stable/modules/preprocessing.html\n",
      "  self.n_iter_ = _check_optimize_result(\"lbfgs\", opt_res, self.max_iter)\n",
      "c:\\Users\\PereiraRodrigues\\miniconda3\\envs\\rumos_bank_lending\\Lib\\site-packages\\sklearn\\neural_network\\_multilayer_perceptron.py:546: ConvergenceWarning: lbfgs failed to converge (status=1):\n",
      "STOP: TOTAL NO. OF ITERATIONS REACHED LIMIT.\n",
      "\n",
      "Increase the number of iterations (max_iter) or scale the data as shown in:\n",
      "    https://scikit-learn.org/stable/modules/preprocessing.html\n",
      "  self.n_iter_ = _check_optimize_result(\"lbfgs\", opt_res, self.max_iter)\n",
      "c:\\Users\\PereiraRodrigues\\miniconda3\\envs\\rumos_bank_lending\\Lib\\site-packages\\sklearn\\neural_network\\_multilayer_perceptron.py:546: ConvergenceWarning: lbfgs failed to converge (status=1):\n",
      "STOP: TOTAL NO. OF ITERATIONS REACHED LIMIT.\n",
      "\n",
      "Increase the number of iterations (max_iter) or scale the data as shown in:\n",
      "    https://scikit-learn.org/stable/modules/preprocessing.html\n",
      "  self.n_iter_ = _check_optimize_result(\"lbfgs\", opt_res, self.max_iter)\n",
      "c:\\Users\\PereiraRodrigues\\miniconda3\\envs\\rumos_bank_lending\\Lib\\site-packages\\sklearn\\neural_network\\_multilayer_perceptron.py:546: ConvergenceWarning: lbfgs failed to converge (status=1):\n",
      "STOP: TOTAL NO. OF ITERATIONS REACHED LIMIT.\n",
      "\n",
      "Increase the number of iterations (max_iter) or scale the data as shown in:\n",
      "    https://scikit-learn.org/stable/modules/preprocessing.html\n",
      "  self.n_iter_ = _check_optimize_result(\"lbfgs\", opt_res, self.max_iter)\n",
      "c:\\Users\\PereiraRodrigues\\miniconda3\\envs\\rumos_bank_lending\\Lib\\site-packages\\sklearn\\neural_network\\_multilayer_perceptron.py:546: ConvergenceWarning: lbfgs failed to converge (status=1):\n",
      "STOP: TOTAL NO. OF ITERATIONS REACHED LIMIT.\n",
      "\n",
      "Increase the number of iterations (max_iter) or scale the data as shown in:\n",
      "    https://scikit-learn.org/stable/modules/preprocessing.html\n",
      "  self.n_iter_ = _check_optimize_result(\"lbfgs\", opt_res, self.max_iter)\n",
      "c:\\Users\\PereiraRodrigues\\miniconda3\\envs\\rumos_bank_lending\\Lib\\site-packages\\sklearn\\neural_network\\_multilayer_perceptron.py:546: ConvergenceWarning: lbfgs failed to converge (status=1):\n",
      "STOP: TOTAL NO. OF ITERATIONS REACHED LIMIT.\n",
      "\n",
      "Increase the number of iterations (max_iter) or scale the data as shown in:\n",
      "    https://scikit-learn.org/stable/modules/preprocessing.html\n",
      "  self.n_iter_ = _check_optimize_result(\"lbfgs\", opt_res, self.max_iter)\n",
      "c:\\Users\\PereiraRodrigues\\miniconda3\\envs\\rumos_bank_lending\\Lib\\site-packages\\sklearn\\neural_network\\_multilayer_perceptron.py:546: ConvergenceWarning: lbfgs failed to converge (status=1):\n",
      "STOP: TOTAL NO. OF ITERATIONS REACHED LIMIT.\n",
      "\n",
      "Increase the number of iterations (max_iter) or scale the data as shown in:\n",
      "    https://scikit-learn.org/stable/modules/preprocessing.html\n",
      "  self.n_iter_ = _check_optimize_result(\"lbfgs\", opt_res, self.max_iter)\n",
      "c:\\Users\\PereiraRodrigues\\miniconda3\\envs\\rumos_bank_lending\\Lib\\site-packages\\sklearn\\neural_network\\_multilayer_perceptron.py:546: ConvergenceWarning: lbfgs failed to converge (status=1):\n",
      "STOP: TOTAL NO. OF ITERATIONS REACHED LIMIT.\n",
      "\n",
      "Increase the number of iterations (max_iter) or scale the data as shown in:\n",
      "    https://scikit-learn.org/stable/modules/preprocessing.html\n",
      "  self.n_iter_ = _check_optimize_result(\"lbfgs\", opt_res, self.max_iter)\n",
      "c:\\Users\\PereiraRodrigues\\miniconda3\\envs\\rumos_bank_lending\\Lib\\site-packages\\sklearn\\neural_network\\_multilayer_perceptron.py:546: ConvergenceWarning: lbfgs failed to converge (status=1):\n",
      "STOP: TOTAL NO. OF ITERATIONS REACHED LIMIT.\n",
      "\n",
      "Increase the number of iterations (max_iter) or scale the data as shown in:\n",
      "    https://scikit-learn.org/stable/modules/preprocessing.html\n",
      "  self.n_iter_ = _check_optimize_result(\"lbfgs\", opt_res, self.max_iter)\n",
      "c:\\Users\\PereiraRodrigues\\miniconda3\\envs\\rumos_bank_lending\\Lib\\site-packages\\sklearn\\neural_network\\_multilayer_perceptron.py:546: ConvergenceWarning: lbfgs failed to converge (status=1):\n",
      "STOP: TOTAL NO. OF ITERATIONS REACHED LIMIT.\n",
      "\n",
      "Increase the number of iterations (max_iter) or scale the data as shown in:\n",
      "    https://scikit-learn.org/stable/modules/preprocessing.html\n",
      "  self.n_iter_ = _check_optimize_result(\"lbfgs\", opt_res, self.max_iter)\n",
      "c:\\Users\\PereiraRodrigues\\miniconda3\\envs\\rumos_bank_lending\\Lib\\site-packages\\sklearn\\neural_network\\_multilayer_perceptron.py:546: ConvergenceWarning: lbfgs failed to converge (status=1):\n",
      "STOP: TOTAL NO. OF ITERATIONS REACHED LIMIT.\n",
      "\n",
      "Increase the number of iterations (max_iter) or scale the data as shown in:\n",
      "    https://scikit-learn.org/stable/modules/preprocessing.html\n",
      "  self.n_iter_ = _check_optimize_result(\"lbfgs\", opt_res, self.max_iter)\n",
      "c:\\Users\\PereiraRodrigues\\miniconda3\\envs\\rumos_bank_lending\\Lib\\site-packages\\sklearn\\neural_network\\_multilayer_perceptron.py:546: ConvergenceWarning: lbfgs failed to converge (status=1):\n",
      "STOP: TOTAL NO. OF ITERATIONS REACHED LIMIT.\n",
      "\n",
      "Increase the number of iterations (max_iter) or scale the data as shown in:\n",
      "    https://scikit-learn.org/stable/modules/preprocessing.html\n",
      "  self.n_iter_ = _check_optimize_result(\"lbfgs\", opt_res, self.max_iter)\n",
      "c:\\Users\\PereiraRodrigues\\miniconda3\\envs\\rumos_bank_lending\\Lib\\site-packages\\sklearn\\neural_network\\_multilayer_perceptron.py:546: ConvergenceWarning: lbfgs failed to converge (status=1):\n",
      "STOP: TOTAL NO. OF ITERATIONS REACHED LIMIT.\n",
      "\n",
      "Increase the number of iterations (max_iter) or scale the data as shown in:\n",
      "    https://scikit-learn.org/stable/modules/preprocessing.html\n",
      "  self.n_iter_ = _check_optimize_result(\"lbfgs\", opt_res, self.max_iter)\n",
      "c:\\Users\\PereiraRodrigues\\miniconda3\\envs\\rumos_bank_lending\\Lib\\site-packages\\sklearn\\neural_network\\_multilayer_perceptron.py:546: ConvergenceWarning: lbfgs failed to converge (status=1):\n",
      "STOP: TOTAL NO. OF ITERATIONS REACHED LIMIT.\n",
      "\n",
      "Increase the number of iterations (max_iter) or scale the data as shown in:\n",
      "    https://scikit-learn.org/stable/modules/preprocessing.html\n",
      "  self.n_iter_ = _check_optimize_result(\"lbfgs\", opt_res, self.max_iter)\n",
      "c:\\Users\\PereiraRodrigues\\miniconda3\\envs\\rumos_bank_lending\\Lib\\site-packages\\sklearn\\neural_network\\_multilayer_perceptron.py:546: ConvergenceWarning: lbfgs failed to converge (status=1):\n",
      "STOP: TOTAL NO. OF ITERATIONS REACHED LIMIT.\n",
      "\n",
      "Increase the number of iterations (max_iter) or scale the data as shown in:\n",
      "    https://scikit-learn.org/stable/modules/preprocessing.html\n",
      "  self.n_iter_ = _check_optimize_result(\"lbfgs\", opt_res, self.max_iter)\n",
      "c:\\Users\\PereiraRodrigues\\miniconda3\\envs\\rumos_bank_lending\\Lib\\site-packages\\sklearn\\neural_network\\_multilayer_perceptron.py:546: ConvergenceWarning: lbfgs failed to converge (status=1):\n",
      "STOP: TOTAL NO. OF ITERATIONS REACHED LIMIT.\n",
      "\n",
      "Increase the number of iterations (max_iter) or scale the data as shown in:\n",
      "    https://scikit-learn.org/stable/modules/preprocessing.html\n",
      "  self.n_iter_ = _check_optimize_result(\"lbfgs\", opt_res, self.max_iter)\n",
      "c:\\Users\\PereiraRodrigues\\miniconda3\\envs\\rumos_bank_lending\\Lib\\site-packages\\sklearn\\neural_network\\_multilayer_perceptron.py:546: ConvergenceWarning: lbfgs failed to converge (status=1):\n",
      "STOP: TOTAL NO. OF ITERATIONS REACHED LIMIT.\n",
      "\n",
      "Increase the number of iterations (max_iter) or scale the data as shown in:\n",
      "    https://scikit-learn.org/stable/modules/preprocessing.html\n",
      "  self.n_iter_ = _check_optimize_result(\"lbfgs\", opt_res, self.max_iter)\n",
      "c:\\Users\\PereiraRodrigues\\miniconda3\\envs\\rumos_bank_lending\\Lib\\site-packages\\sklearn\\neural_network\\_multilayer_perceptron.py:546: ConvergenceWarning: lbfgs failed to converge (status=1):\n",
      "STOP: TOTAL NO. OF ITERATIONS REACHED LIMIT.\n",
      "\n",
      "Increase the number of iterations (max_iter) or scale the data as shown in:\n",
      "    https://scikit-learn.org/stable/modules/preprocessing.html\n",
      "  self.n_iter_ = _check_optimize_result(\"lbfgs\", opt_res, self.max_iter)\n",
      "c:\\Users\\PereiraRodrigues\\miniconda3\\envs\\rumos_bank_lending\\Lib\\site-packages\\sklearn\\neural_network\\_multilayer_perceptron.py:546: ConvergenceWarning: lbfgs failed to converge (status=1):\n",
      "STOP: TOTAL NO. OF ITERATIONS REACHED LIMIT.\n",
      "\n",
      "Increase the number of iterations (max_iter) or scale the data as shown in:\n",
      "    https://scikit-learn.org/stable/modules/preprocessing.html\n",
      "  self.n_iter_ = _check_optimize_result(\"lbfgs\", opt_res, self.max_iter)\n",
      "c:\\Users\\PereiraRodrigues\\miniconda3\\envs\\rumos_bank_lending\\Lib\\site-packages\\sklearn\\neural_network\\_multilayer_perceptron.py:546: ConvergenceWarning: lbfgs failed to converge (status=1):\n",
      "STOP: TOTAL NO. OF ITERATIONS REACHED LIMIT.\n",
      "\n",
      "Increase the number of iterations (max_iter) or scale the data as shown in:\n",
      "    https://scikit-learn.org/stable/modules/preprocessing.html\n",
      "  self.n_iter_ = _check_optimize_result(\"lbfgs\", opt_res, self.max_iter)\n",
      "c:\\Users\\PereiraRodrigues\\miniconda3\\envs\\rumos_bank_lending\\Lib\\site-packages\\sklearn\\neural_network\\_multilayer_perceptron.py:546: ConvergenceWarning: lbfgs failed to converge (status=1):\n",
      "STOP: TOTAL NO. OF ITERATIONS REACHED LIMIT.\n",
      "\n",
      "Increase the number of iterations (max_iter) or scale the data as shown in:\n",
      "    https://scikit-learn.org/stable/modules/preprocessing.html\n",
      "  self.n_iter_ = _check_optimize_result(\"lbfgs\", opt_res, self.max_iter)\n",
      "c:\\Users\\PereiraRodrigues\\miniconda3\\envs\\rumos_bank_lending\\Lib\\site-packages\\sklearn\\neural_network\\_multilayer_perceptron.py:546: ConvergenceWarning: lbfgs failed to converge (status=1):\n",
      "STOP: TOTAL NO. OF ITERATIONS REACHED LIMIT.\n",
      "\n",
      "Increase the number of iterations (max_iter) or scale the data as shown in:\n",
      "    https://scikit-learn.org/stable/modules/preprocessing.html\n",
      "  self.n_iter_ = _check_optimize_result(\"lbfgs\", opt_res, self.max_iter)\n",
      "c:\\Users\\PereiraRodrigues\\miniconda3\\envs\\rumos_bank_lending\\Lib\\site-packages\\sklearn\\neural_network\\_multilayer_perceptron.py:546: ConvergenceWarning: lbfgs failed to converge (status=1):\n",
      "STOP: TOTAL NO. OF ITERATIONS REACHED LIMIT.\n",
      "\n",
      "Increase the number of iterations (max_iter) or scale the data as shown in:\n",
      "    https://scikit-learn.org/stable/modules/preprocessing.html\n",
      "  self.n_iter_ = _check_optimize_result(\"lbfgs\", opt_res, self.max_iter)\n",
      "c:\\Users\\PereiraRodrigues\\miniconda3\\envs\\rumos_bank_lending\\Lib\\site-packages\\sklearn\\neural_network\\_multilayer_perceptron.py:546: ConvergenceWarning: lbfgs failed to converge (status=1):\n",
      "STOP: TOTAL NO. OF ITERATIONS REACHED LIMIT.\n",
      "\n",
      "Increase the number of iterations (max_iter) or scale the data as shown in:\n",
      "    https://scikit-learn.org/stable/modules/preprocessing.html\n",
      "  self.n_iter_ = _check_optimize_result(\"lbfgs\", opt_res, self.max_iter)\n",
      "c:\\Users\\PereiraRodrigues\\miniconda3\\envs\\rumos_bank_lending\\Lib\\site-packages\\sklearn\\neural_network\\_multilayer_perceptron.py:546: ConvergenceWarning: lbfgs failed to converge (status=1):\n",
      "STOP: TOTAL NO. OF ITERATIONS REACHED LIMIT.\n",
      "\n",
      "Increase the number of iterations (max_iter) or scale the data as shown in:\n",
      "    https://scikit-learn.org/stable/modules/preprocessing.html\n",
      "  self.n_iter_ = _check_optimize_result(\"lbfgs\", opt_res, self.max_iter)\n",
      "c:\\Users\\PereiraRodrigues\\miniconda3\\envs\\rumos_bank_lending\\Lib\\site-packages\\sklearn\\neural_network\\_multilayer_perceptron.py:546: ConvergenceWarning: lbfgs failed to converge (status=1):\n",
      "STOP: TOTAL NO. OF ITERATIONS REACHED LIMIT.\n",
      "\n",
      "Increase the number of iterations (max_iter) or scale the data as shown in:\n",
      "    https://scikit-learn.org/stable/modules/preprocessing.html\n",
      "  self.n_iter_ = _check_optimize_result(\"lbfgs\", opt_res, self.max_iter)\n",
      "c:\\Users\\PereiraRodrigues\\miniconda3\\envs\\rumos_bank_lending\\Lib\\site-packages\\sklearn\\neural_network\\_multilayer_perceptron.py:546: ConvergenceWarning: lbfgs failed to converge (status=1):\n",
      "STOP: TOTAL NO. OF ITERATIONS REACHED LIMIT.\n",
      "\n",
      "Increase the number of iterations (max_iter) or scale the data as shown in:\n",
      "    https://scikit-learn.org/stable/modules/preprocessing.html\n",
      "  self.n_iter_ = _check_optimize_result(\"lbfgs\", opt_res, self.max_iter)\n",
      "c:\\Users\\PereiraRodrigues\\miniconda3\\envs\\rumos_bank_lending\\Lib\\site-packages\\sklearn\\neural_network\\_multilayer_perceptron.py:546: ConvergenceWarning: lbfgs failed to converge (status=1):\n",
      "STOP: TOTAL NO. OF ITERATIONS REACHED LIMIT.\n",
      "\n",
      "Increase the number of iterations (max_iter) or scale the data as shown in:\n",
      "    https://scikit-learn.org/stable/modules/preprocessing.html\n",
      "  self.n_iter_ = _check_optimize_result(\"lbfgs\", opt_res, self.max_iter)\n",
      "c:\\Users\\PereiraRodrigues\\miniconda3\\envs\\rumos_bank_lending\\Lib\\site-packages\\sklearn\\neural_network\\_multilayer_perceptron.py:546: ConvergenceWarning: lbfgs failed to converge (status=1):\n",
      "STOP: TOTAL NO. OF ITERATIONS REACHED LIMIT.\n",
      "\n",
      "Increase the number of iterations (max_iter) or scale the data as shown in:\n",
      "    https://scikit-learn.org/stable/modules/preprocessing.html\n",
      "  self.n_iter_ = _check_optimize_result(\"lbfgs\", opt_res, self.max_iter)\n",
      "c:\\Users\\PereiraRodrigues\\miniconda3\\envs\\rumos_bank_lending\\Lib\\site-packages\\sklearn\\neural_network\\_multilayer_perceptron.py:546: ConvergenceWarning: lbfgs failed to converge (status=1):\n",
      "STOP: TOTAL NO. OF ITERATIONS REACHED LIMIT.\n",
      "\n",
      "Increase the number of iterations (max_iter) or scale the data as shown in:\n",
      "    https://scikit-learn.org/stable/modules/preprocessing.html\n",
      "  self.n_iter_ = _check_optimize_result(\"lbfgs\", opt_res, self.max_iter)\n",
      "c:\\Users\\PereiraRodrigues\\miniconda3\\envs\\rumos_bank_lending\\Lib\\site-packages\\sklearn\\neural_network\\_multilayer_perceptron.py:546: ConvergenceWarning: lbfgs failed to converge (status=1):\n",
      "STOP: TOTAL NO. OF ITERATIONS REACHED LIMIT.\n",
      "\n",
      "Increase the number of iterations (max_iter) or scale the data as shown in:\n",
      "    https://scikit-learn.org/stable/modules/preprocessing.html\n",
      "  self.n_iter_ = _check_optimize_result(\"lbfgs\", opt_res, self.max_iter)\n",
      "c:\\Users\\PereiraRodrigues\\miniconda3\\envs\\rumos_bank_lending\\Lib\\site-packages\\sklearn\\neural_network\\_multilayer_perceptron.py:546: ConvergenceWarning: lbfgs failed to converge (status=1):\n",
      "STOP: TOTAL NO. OF ITERATIONS REACHED LIMIT.\n",
      "\n",
      "Increase the number of iterations (max_iter) or scale the data as shown in:\n",
      "    https://scikit-learn.org/stable/modules/preprocessing.html\n",
      "  self.n_iter_ = _check_optimize_result(\"lbfgs\", opt_res, self.max_iter)\n",
      "c:\\Users\\PereiraRodrigues\\miniconda3\\envs\\rumos_bank_lending\\Lib\\site-packages\\sklearn\\neural_network\\_multilayer_perceptron.py:546: ConvergenceWarning: lbfgs failed to converge (status=1):\n",
      "STOP: TOTAL NO. OF ITERATIONS REACHED LIMIT.\n",
      "\n",
      "Increase the number of iterations (max_iter) or scale the data as shown in:\n",
      "    https://scikit-learn.org/stable/modules/preprocessing.html\n",
      "  self.n_iter_ = _check_optimize_result(\"lbfgs\", opt_res, self.max_iter)\n",
      "c:\\Users\\PereiraRodrigues\\miniconda3\\envs\\rumos_bank_lending\\Lib\\site-packages\\sklearn\\neural_network\\_multilayer_perceptron.py:546: ConvergenceWarning: lbfgs failed to converge (status=1):\n",
      "STOP: TOTAL NO. OF ITERATIONS REACHED LIMIT.\n",
      "\n",
      "Increase the number of iterations (max_iter) or scale the data as shown in:\n",
      "    https://scikit-learn.org/stable/modules/preprocessing.html\n",
      "  self.n_iter_ = _check_optimize_result(\"lbfgs\", opt_res, self.max_iter)\n",
      "c:\\Users\\PereiraRodrigues\\miniconda3\\envs\\rumos_bank_lending\\Lib\\site-packages\\sklearn\\neural_network\\_multilayer_perceptron.py:546: ConvergenceWarning: lbfgs failed to converge (status=1):\n",
      "STOP: TOTAL NO. OF ITERATIONS REACHED LIMIT.\n",
      "\n",
      "Increase the number of iterations (max_iter) or scale the data as shown in:\n",
      "    https://scikit-learn.org/stable/modules/preprocessing.html\n",
      "  self.n_iter_ = _check_optimize_result(\"lbfgs\", opt_res, self.max_iter)\n",
      "c:\\Users\\PereiraRodrigues\\miniconda3\\envs\\rumos_bank_lending\\Lib\\site-packages\\sklearn\\neural_network\\_multilayer_perceptron.py:546: ConvergenceWarning: lbfgs failed to converge (status=1):\n",
      "STOP: TOTAL NO. OF ITERATIONS REACHED LIMIT.\n",
      "\n",
      "Increase the number of iterations (max_iter) or scale the data as shown in:\n",
      "    https://scikit-learn.org/stable/modules/preprocessing.html\n",
      "  self.n_iter_ = _check_optimize_result(\"lbfgs\", opt_res, self.max_iter)\n",
      "c:\\Users\\PereiraRodrigues\\miniconda3\\envs\\rumos_bank_lending\\Lib\\site-packages\\sklearn\\neural_network\\_multilayer_perceptron.py:546: ConvergenceWarning: lbfgs failed to converge (status=1):\n",
      "STOP: TOTAL NO. OF ITERATIONS REACHED LIMIT.\n",
      "\n",
      "Increase the number of iterations (max_iter) or scale the data as shown in:\n",
      "    https://scikit-learn.org/stable/modules/preprocessing.html\n",
      "  self.n_iter_ = _check_optimize_result(\"lbfgs\", opt_res, self.max_iter)\n",
      "c:\\Users\\PereiraRodrigues\\miniconda3\\envs\\rumos_bank_lending\\Lib\\site-packages\\sklearn\\neural_network\\_multilayer_perceptron.py:546: ConvergenceWarning: lbfgs failed to converge (status=1):\n",
      "STOP: TOTAL NO. OF ITERATIONS REACHED LIMIT.\n",
      "\n",
      "Increase the number of iterations (max_iter) or scale the data as shown in:\n",
      "    https://scikit-learn.org/stable/modules/preprocessing.html\n",
      "  self.n_iter_ = _check_optimize_result(\"lbfgs\", opt_res, self.max_iter)\n",
      "c:\\Users\\PereiraRodrigues\\miniconda3\\envs\\rumos_bank_lending\\Lib\\site-packages\\sklearn\\neural_network\\_multilayer_perceptron.py:546: ConvergenceWarning: lbfgs failed to converge (status=1):\n",
      "STOP: TOTAL NO. OF ITERATIONS REACHED LIMIT.\n",
      "\n",
      "Increase the number of iterations (max_iter) or scale the data as shown in:\n",
      "    https://scikit-learn.org/stable/modules/preprocessing.html\n",
      "  self.n_iter_ = _check_optimize_result(\"lbfgs\", opt_res, self.max_iter)\n",
      "c:\\Users\\PereiraRodrigues\\miniconda3\\envs\\rumos_bank_lending\\Lib\\site-packages\\sklearn\\neural_network\\_multilayer_perceptron.py:546: ConvergenceWarning: lbfgs failed to converge (status=1):\n",
      "STOP: TOTAL NO. OF ITERATIONS REACHED LIMIT.\n",
      "\n",
      "Increase the number of iterations (max_iter) or scale the data as shown in:\n",
      "    https://scikit-learn.org/stable/modules/preprocessing.html\n",
      "  self.n_iter_ = _check_optimize_result(\"lbfgs\", opt_res, self.max_iter)\n",
      "c:\\Users\\PereiraRodrigues\\miniconda3\\envs\\rumos_bank_lending\\Lib\\site-packages\\sklearn\\neural_network\\_multilayer_perceptron.py:546: ConvergenceWarning: lbfgs failed to converge (status=1):\n",
      "STOP: TOTAL NO. OF ITERATIONS REACHED LIMIT.\n",
      "\n",
      "Increase the number of iterations (max_iter) or scale the data as shown in:\n",
      "    https://scikit-learn.org/stable/modules/preprocessing.html\n",
      "  self.n_iter_ = _check_optimize_result(\"lbfgs\", opt_res, self.max_iter)\n",
      "c:\\Users\\PereiraRodrigues\\miniconda3\\envs\\rumos_bank_lending\\Lib\\site-packages\\sklearn\\neural_network\\_multilayer_perceptron.py:546: ConvergenceWarning: lbfgs failed to converge (status=1):\n",
      "STOP: TOTAL NO. OF ITERATIONS REACHED LIMIT.\n",
      "\n",
      "Increase the number of iterations (max_iter) or scale the data as shown in:\n",
      "    https://scikit-learn.org/stable/modules/preprocessing.html\n",
      "  self.n_iter_ = _check_optimize_result(\"lbfgs\", opt_res, self.max_iter)\n",
      "c:\\Users\\PereiraRodrigues\\miniconda3\\envs\\rumos_bank_lending\\Lib\\site-packages\\sklearn\\neural_network\\_multilayer_perceptron.py:546: ConvergenceWarning: lbfgs failed to converge (status=1):\n",
      "STOP: TOTAL NO. OF ITERATIONS REACHED LIMIT.\n",
      "\n",
      "Increase the number of iterations (max_iter) or scale the data as shown in:\n",
      "    https://scikit-learn.org/stable/modules/preprocessing.html\n",
      "  self.n_iter_ = _check_optimize_result(\"lbfgs\", opt_res, self.max_iter)\n",
      "c:\\Users\\PereiraRodrigues\\miniconda3\\envs\\rumos_bank_lending\\Lib\\site-packages\\sklearn\\neural_network\\_multilayer_perceptron.py:546: ConvergenceWarning: lbfgs failed to converge (status=1):\n",
      "STOP: TOTAL NO. OF ITERATIONS REACHED LIMIT.\n",
      "\n",
      "Increase the number of iterations (max_iter) or scale the data as shown in:\n",
      "    https://scikit-learn.org/stable/modules/preprocessing.html\n",
      "  self.n_iter_ = _check_optimize_result(\"lbfgs\", opt_res, self.max_iter)\n",
      "c:\\Users\\PereiraRodrigues\\miniconda3\\envs\\rumos_bank_lending\\Lib\\site-packages\\sklearn\\neural_network\\_multilayer_perceptron.py:546: ConvergenceWarning: lbfgs failed to converge (status=1):\n",
      "STOP: TOTAL NO. OF ITERATIONS REACHED LIMIT.\n",
      "\n",
      "Increase the number of iterations (max_iter) or scale the data as shown in:\n",
      "    https://scikit-learn.org/stable/modules/preprocessing.html\n",
      "  self.n_iter_ = _check_optimize_result(\"lbfgs\", opt_res, self.max_iter)\n",
      "c:\\Users\\PereiraRodrigues\\miniconda3\\envs\\rumos_bank_lending\\Lib\\site-packages\\sklearn\\neural_network\\_multilayer_perceptron.py:546: ConvergenceWarning: lbfgs failed to converge (status=1):\n",
      "STOP: TOTAL NO. OF ITERATIONS REACHED LIMIT.\n",
      "\n",
      "Increase the number of iterations (max_iter) or scale the data as shown in:\n",
      "    https://scikit-learn.org/stable/modules/preprocessing.html\n",
      "  self.n_iter_ = _check_optimize_result(\"lbfgs\", opt_res, self.max_iter)\n",
      "c:\\Users\\PereiraRodrigues\\miniconda3\\envs\\rumos_bank_lending\\Lib\\site-packages\\sklearn\\neural_network\\_multilayer_perceptron.py:546: ConvergenceWarning: lbfgs failed to converge (status=1):\n",
      "STOP: TOTAL NO. OF ITERATIONS REACHED LIMIT.\n",
      "\n",
      "Increase the number of iterations (max_iter) or scale the data as shown in:\n",
      "    https://scikit-learn.org/stable/modules/preprocessing.html\n",
      "  self.n_iter_ = _check_optimize_result(\"lbfgs\", opt_res, self.max_iter)\n",
      "c:\\Users\\PereiraRodrigues\\miniconda3\\envs\\rumos_bank_lending\\Lib\\site-packages\\sklearn\\neural_network\\_multilayer_perceptron.py:546: ConvergenceWarning: lbfgs failed to converge (status=1):\n",
      "STOP: TOTAL NO. OF ITERATIONS REACHED LIMIT.\n",
      "\n",
      "Increase the number of iterations (max_iter) or scale the data as shown in:\n",
      "    https://scikit-learn.org/stable/modules/preprocessing.html\n",
      "  self.n_iter_ = _check_optimize_result(\"lbfgs\", opt_res, self.max_iter)\n",
      "c:\\Users\\PereiraRodrigues\\miniconda3\\envs\\rumos_bank_lending\\Lib\\site-packages\\sklearn\\neural_network\\_multilayer_perceptron.py:546: ConvergenceWarning: lbfgs failed to converge (status=1):\n",
      "STOP: TOTAL NO. OF ITERATIONS REACHED LIMIT.\n",
      "\n",
      "Increase the number of iterations (max_iter) or scale the data as shown in:\n",
      "    https://scikit-learn.org/stable/modules/preprocessing.html\n",
      "  self.n_iter_ = _check_optimize_result(\"lbfgs\", opt_res, self.max_iter)\n",
      "c:\\Users\\PereiraRodrigues\\miniconda3\\envs\\rumos_bank_lending\\Lib\\site-packages\\sklearn\\neural_network\\_multilayer_perceptron.py:546: ConvergenceWarning: lbfgs failed to converge (status=1):\n",
      "STOP: TOTAL NO. OF ITERATIONS REACHED LIMIT.\n",
      "\n",
      "Increase the number of iterations (max_iter) or scale the data as shown in:\n",
      "    https://scikit-learn.org/stable/modules/preprocessing.html\n",
      "  self.n_iter_ = _check_optimize_result(\"lbfgs\", opt_res, self.max_iter)\n",
      "c:\\Users\\PereiraRodrigues\\miniconda3\\envs\\rumos_bank_lending\\Lib\\site-packages\\sklearn\\neural_network\\_multilayer_perceptron.py:546: ConvergenceWarning: lbfgs failed to converge (status=1):\n",
      "STOP: TOTAL NO. OF ITERATIONS REACHED LIMIT.\n",
      "\n",
      "Increase the number of iterations (max_iter) or scale the data as shown in:\n",
      "    https://scikit-learn.org/stable/modules/preprocessing.html\n",
      "  self.n_iter_ = _check_optimize_result(\"lbfgs\", opt_res, self.max_iter)\n",
      "c:\\Users\\PereiraRodrigues\\miniconda3\\envs\\rumos_bank_lending\\Lib\\site-packages\\sklearn\\neural_network\\_multilayer_perceptron.py:546: ConvergenceWarning: lbfgs failed to converge (status=1):\n",
      "STOP: TOTAL NO. OF ITERATIONS REACHED LIMIT.\n",
      "\n",
      "Increase the number of iterations (max_iter) or scale the data as shown in:\n",
      "    https://scikit-learn.org/stable/modules/preprocessing.html\n",
      "  self.n_iter_ = _check_optimize_result(\"lbfgs\", opt_res, self.max_iter)\n",
      "c:\\Users\\PereiraRodrigues\\miniconda3\\envs\\rumos_bank_lending\\Lib\\site-packages\\sklearn\\neural_network\\_multilayer_perceptron.py:546: ConvergenceWarning: lbfgs failed to converge (status=1):\n",
      "STOP: TOTAL NO. OF ITERATIONS REACHED LIMIT.\n",
      "\n",
      "Increase the number of iterations (max_iter) or scale the data as shown in:\n",
      "    https://scikit-learn.org/stable/modules/preprocessing.html\n",
      "  self.n_iter_ = _check_optimize_result(\"lbfgs\", opt_res, self.max_iter)\n",
      "c:\\Users\\PereiraRodrigues\\miniconda3\\envs\\rumos_bank_lending\\Lib\\site-packages\\sklearn\\neural_network\\_multilayer_perceptron.py:546: ConvergenceWarning: lbfgs failed to converge (status=1):\n",
      "STOP: TOTAL NO. OF ITERATIONS REACHED LIMIT.\n",
      "\n",
      "Increase the number of iterations (max_iter) or scale the data as shown in:\n",
      "    https://scikit-learn.org/stable/modules/preprocessing.html\n",
      "  self.n_iter_ = _check_optimize_result(\"lbfgs\", opt_res, self.max_iter)\n",
      "c:\\Users\\PereiraRodrigues\\miniconda3\\envs\\rumos_bank_lending\\Lib\\site-packages\\sklearn\\neural_network\\_multilayer_perceptron.py:546: ConvergenceWarning: lbfgs failed to converge (status=1):\n",
      "STOP: TOTAL NO. OF ITERATIONS REACHED LIMIT.\n",
      "\n",
      "Increase the number of iterations (max_iter) or scale the data as shown in:\n",
      "    https://scikit-learn.org/stable/modules/preprocessing.html\n",
      "  self.n_iter_ = _check_optimize_result(\"lbfgs\", opt_res, self.max_iter)\n",
      "c:\\Users\\PereiraRodrigues\\miniconda3\\envs\\rumos_bank_lending\\Lib\\site-packages\\sklearn\\neural_network\\_multilayer_perceptron.py:546: ConvergenceWarning: lbfgs failed to converge (status=1):\n",
      "STOP: TOTAL NO. OF ITERATIONS REACHED LIMIT.\n",
      "\n",
      "Increase the number of iterations (max_iter) or scale the data as shown in:\n",
      "    https://scikit-learn.org/stable/modules/preprocessing.html\n",
      "  self.n_iter_ = _check_optimize_result(\"lbfgs\", opt_res, self.max_iter)\n",
      "c:\\Users\\PereiraRodrigues\\miniconda3\\envs\\rumos_bank_lending\\Lib\\site-packages\\sklearn\\neural_network\\_multilayer_perceptron.py:546: ConvergenceWarning: lbfgs failed to converge (status=1):\n",
      "STOP: TOTAL NO. OF ITERATIONS REACHED LIMIT.\n",
      "\n",
      "Increase the number of iterations (max_iter) or scale the data as shown in:\n",
      "    https://scikit-learn.org/stable/modules/preprocessing.html\n",
      "  self.n_iter_ = _check_optimize_result(\"lbfgs\", opt_res, self.max_iter)\n"
     ]
    },
    {
     "data": {
      "image/png": "[encoded data removed]",
      "text/plain": [
       "<Figure size 640x480 with 1 Axes>"
      ]
     },
     "metadata": {},
     "output_type": "display_data"
    },
    {
     "name": "stdout",
     "output_type": "stream",
     "text": [
      "MinCost: (np.float64(0.3), np.int64(263000))\n",
      "Finalizado: mlp  | Accuracy: 0.8000\n"
     ]
    }
   ],
   "source": [
    "# Iterar Pipeline definino ponto anterior, calcular acuracy e registar consumo de recursos\n",
    "resource_usage = []\n",
    "model_results = []\n",
    "for model_name, pipeline, param_grid in models_and_params:\n",
    "\n",
    "    \n",
    "    # Medir tempo de treino\n",
    "    start_time = time.time()\n",
    "\n",
    "    # === Hiperparam tuning ===\n",
    "    search = GridSearchCV(pipeline, param_grid, cv=5, scoring='accuracy')\n",
    "    search.fit(X_train, y_train)\n",
    "    best_model = search.best_estimator_\n",
    "\n",
    "    # === Previsões e métrica\n",
    "    y_preds = best_model.predict_proba(X_test)[:, 1]\n",
    "    \n",
    "    min_threshold, min_cost = min_cost_threshold(y_test, y_preds, model_name+' Custo/ Theshold')\n",
    "    print(f\"MinCost: {min_threshold,min_cost}\")\n",
    "\n",
    "\n",
    "    # Converter probabilidades em classes\n",
    "    y_preds_class = (y_preds >= 0.5).astype(int)  \n",
    "    \n",
    "    # Calcular Accuracy\n",
    "    acc = accuracy_score(y_test, y_preds_class)\n",
    "\n",
    "    # === Log dos melhores parâmetros\n",
    "    best_params = search.best_params_\n",
    "    print(f\"Finalizado: {model_name}  | Accuracy: {acc:.4f}\")\n",
    "\n",
    "    end_time = time.time()\n",
    "    elapsed_time = end_time - start_time\n",
    "\n",
    "\n",
    "    # Guardar métricas\n",
    "    model_results.append({\n",
    "        \"model_name\": model_name,\n",
    "        \"minimum_cost\": min_cost,\n",
    "        \"minimun_threshold\": min_threshold,\n",
    "        \"accuracy\": acc,\n",
    "        \"training_time\": elapsed_time\n",
    "    })\n",
    "\n"
   ]
  },
  {
   "cell_type": "code",
   "execution_count": 45,
   "metadata": {},
   "outputs": [
    {
     "data": {
      "image/png": "[encoded data removed]",
      "text/plain": [
       "<Figure size 1000x600 with 1 Axes>"
      ]
     },
     "metadata": {},
     "output_type": "display_data"
    }
   ],
   "source": [
    "plot_bar_metric(model_results, x_col='model_name', y_col='training_time',\n",
    "                x_label='Modelo', y_label='Tempo (segundos)',\n",
    "                title='Tempo de Treino por Modelo')"
   ]
  },
  {
   "cell_type": "code",
   "execution_count": 46,
   "metadata": {},
   "outputs": [
    {
     "data": {
      "image/png": "[encoded data removed]",
      "text/plain": [
       "<Figure size 1000x600 with 1 Axes>"
      ]
     },
     "metadata": {},
     "output_type": "display_data"
    }
   ],
   "source": [
    "plot_bar_metric(model_results, x_col='model_name', y_col='minimum_cost',\n",
    "                x_label='Modelo', y_label='Custo Total',\n",
    "                title='Custo Total por Modelo')"
   ]
  },
  {
   "cell_type": "markdown",
   "metadata": {
    "id": "zgk77FQFoTZy"
   },
   "source": [
    "#### 3. Qual o modelo que levou a melhores resultados? Qual a métrica usada para comparar os diferentes modelos?"
   ]
  },
  {
   "cell_type": "markdown",
   "metadata": {
    "collapsed": true,
    "id": "U0Mkt4OMoTZy"
   },
   "source": [
    "A métrica usada foi o custo total uma vez que o objetivo do modelo era diminuir os custos do banco."
   ]
  },
  {
   "cell_type": "code",
   "execution_count": 55,
   "metadata": {},
   "outputs": [
    {
     "name": "stdout",
     "output_type": "stream",
     "text": [
      "Melhor modelo: decision_tree com custo mínimo de 239000.0000\n"
     ]
    }
   ],
   "source": [
    "model_results = pd.DataFrame(model_results)\n",
    "model, cost = get_best_model_by_cost(model_results)\n",
    "print(f\"Melhor modelo: {model} com custo mínimo de {cost:.4f}\")"
   ]
  },
  {
   "cell_type": "markdown",
   "metadata": {
    "id": "mVJKauqYoTZz"
   },
   "source": [
    "#### 4. Quais são as features mais relevantes para decidir se um cliente tem mais propensão para ser mau pagador?"
   ]
  },
  {
   "cell_type": "code",
   "execution_count": 31,
   "metadata": {},
   "outputs": [],
   "source": [
    "rf = RandomForestClassifier(random_state = seed,  class_weight = 'balanced').fit(X_train, y_train)\n",
    "parameters = {'n_estimators':[10, 100, 300, 1000]}\n",
    "clf_rf = GridSearchCV(rf, parameters, cv = 5).fit(X_train, y_train)"
   ]
  },
  {
   "cell_type": "code",
   "execution_count": 32,
   "metadata": {
    "id": "GNUyR7O2oTZz"
   },
   "outputs": [],
   "source": [
    "rf = RandomForestClassifier(**clf_rf.best_params_).fit(X_train, y_train)"
   ]
  },
  {
   "cell_type": "code",
   "execution_count": 33,
   "metadata": {
    "id": "wkHKRuXSoTZ2",
    "outputId": "7e37bc69-716f-438c-fdaf-b75fd8890f07"
   },
   "outputs": [
    {
     "data": {
      "text/html": [
       "<div>\n",
       "<style scoped>\n",
       "    .dataframe tbody tr th:only-of-type {\n",
       "        vertical-align: middle;\n",
       "    }\n",
       "\n",
       "    .dataframe tbody tr th {\n",
       "        vertical-align: top;\n",
       "    }\n",
       "\n",
       "    .dataframe thead th {\n",
       "        text-align: right;\n",
       "    }\n",
       "</style>\n",
       "<table border=\"1\" class=\"dataframe\">\n",
       "  <thead>\n",
       "    <tr style=\"text-align: right;\">\n",
       "      <th></th>\n",
       "      <th>value</th>\n",
       "    </tr>\n",
       "  </thead>\n",
       "  <tbody>\n",
       "    <tr>\n",
       "      <th>PAY_0</th>\n",
       "      <td>0.089254</td>\n",
       "    </tr>\n",
       "    <tr>\n",
       "      <th>AGE</th>\n",
       "      <td>0.068479</td>\n",
       "    </tr>\n",
       "    <tr>\n",
       "      <th>BILL_AMT1</th>\n",
       "      <td>0.057758</td>\n",
       "    </tr>\n",
       "    <tr>\n",
       "      <th>LIMIT_BAL</th>\n",
       "      <td>0.056908</td>\n",
       "    </tr>\n",
       "    <tr>\n",
       "      <th>BILL_AMT3</th>\n",
       "      <td>0.054144</td>\n",
       "    </tr>\n",
       "    <tr>\n",
       "      <th>BILL_AMT2</th>\n",
       "      <td>0.052381</td>\n",
       "    </tr>\n",
       "    <tr>\n",
       "      <th>PAY_AMT1</th>\n",
       "      <td>0.050986</td>\n",
       "    </tr>\n",
       "    <tr>\n",
       "      <th>PAY_AMT2</th>\n",
       "      <td>0.050877</td>\n",
       "    </tr>\n",
       "    <tr>\n",
       "      <th>BILL_AMT6</th>\n",
       "      <td>0.050441</td>\n",
       "    </tr>\n",
       "    <tr>\n",
       "      <th>BILL_AMT4</th>\n",
       "      <td>0.049564</td>\n",
       "    </tr>\n",
       "    <tr>\n",
       "      <th>PAY_AMT5</th>\n",
       "      <td>0.048891</td>\n",
       "    </tr>\n",
       "    <tr>\n",
       "      <th>BILL_AMT5</th>\n",
       "      <td>0.047438</td>\n",
       "    </tr>\n",
       "    <tr>\n",
       "      <th>PAY_AMT3</th>\n",
       "      <td>0.046376</td>\n",
       "    </tr>\n",
       "    <tr>\n",
       "      <th>PAY_AMT6</th>\n",
       "      <td>0.046372</td>\n",
       "    </tr>\n",
       "    <tr>\n",
       "      <th>PAY_AMT4</th>\n",
       "      <td>0.041290</td>\n",
       "    </tr>\n",
       "    <tr>\n",
       "      <th>PAY_2</th>\n",
       "      <td>0.036507</td>\n",
       "    </tr>\n",
       "    <tr>\n",
       "      <th>PAY_4</th>\n",
       "      <td>0.034293</td>\n",
       "    </tr>\n",
       "    <tr>\n",
       "      <th>PAY_5</th>\n",
       "      <td>0.025341</td>\n",
       "    </tr>\n",
       "    <tr>\n",
       "      <th>PAY_3</th>\n",
       "      <td>0.025330</td>\n",
       "    </tr>\n",
       "    <tr>\n",
       "      <th>PAY_6</th>\n",
       "      <td>0.023083</td>\n",
       "    </tr>\n",
       "    <tr>\n",
       "      <th>EDUCATION</th>\n",
       "      <td>0.018345</td>\n",
       "    </tr>\n",
       "    <tr>\n",
       "      <th>MARRIAGE</th>\n",
       "      <td>0.013420</td>\n",
       "    </tr>\n",
       "    <tr>\n",
       "      <th>SEX</th>\n",
       "      <td>0.012522</td>\n",
       "    </tr>\n",
       "  </tbody>\n",
       "</table>\n",
       "</div>"
      ],
      "text/plain": [
       "              value\n",
       "PAY_0      0.089254\n",
       "AGE        0.068479\n",
       "BILL_AMT1  0.057758\n",
       "LIMIT_BAL  0.056908\n",
       "BILL_AMT3  0.054144\n",
       "BILL_AMT2  0.052381\n",
       "PAY_AMT1   0.050986\n",
       "PAY_AMT2   0.050877\n",
       "BILL_AMT6  0.050441\n",
       "BILL_AMT4  0.049564\n",
       "PAY_AMT5   0.048891\n",
       "BILL_AMT5  0.047438\n",
       "PAY_AMT3   0.046376\n",
       "PAY_AMT6   0.046372\n",
       "PAY_AMT4   0.041290\n",
       "PAY_2      0.036507\n",
       "PAY_4      0.034293\n",
       "PAY_5      0.025341\n",
       "PAY_3      0.025330\n",
       "PAY_6      0.023083\n",
       "EDUCATION  0.018345\n",
       "MARRIAGE   0.013420\n",
       "SEX        0.012522"
      ]
     },
     "execution_count": 33,
     "metadata": {},
     "output_type": "execute_result"
    }
   ],
   "source": [
    "important_features = pd.DataFrame(data = rf.feature_importances_, index = X_train.columns, columns = ['value'])\n",
    "important_features.sort_values(by = 'value', ascending = False)"
   ]
  },
  {
   "cell_type": "markdown",
   "metadata": {
    "id": "ghSi-XhToTZ5"
   },
   "source": [
    "As variaveis que mais contribuem para o modelo decidir se um cliente vai ser um bom ou mau pagador são:\n",
    "    - PAY_0 - Repayment status in September, 2005 \n",
    "    - e AGE - idade do cliente\n",
    "    "
   ]
  },
  {
   "cell_type": "markdown",
   "metadata": {
    "id": "eP5wGYdeoTZ5"
   },
   "source": [
    "#### 5. Qual seria o custo que o banco tem sem nenhum modelo?\n",
    "\n",
    "    - O custo que o banco teria sem modelo, ou seja, assumindo que todos os clientes seriam bons pagadores, é de: 3,939,000 Euros."
   ]
  },
  {
   "cell_type": "markdown",
   "metadata": {
    "id": "kO68aHLLoTZ5"
   },
   "source": [
    "#### 6. Qual o custo que o banco passa a tar com o vosso modelo?"
   ]
  },
  {
   "cell_type": "markdown",
   "metadata": {
    "id": "akgtZK10oTZ5"
   },
   "source": [
    "- O custo que o banco teria com o modelo seria de: 2,476,000 Euros - Pouparia quase 1 Milhão e meio de Euros!"
   ]
  }
 ],
 "metadata": {
  "colab": {
   "collapsed_sections": [
    "tUhtD10ioTYV",
    "nfjkWZh4oTYj",
    "Aphz-nLGoTY1",
    "Kmv8FyejoTZI",
    "onKHTak6oTZY",
    "JEexZC_3oTZi",
    "zgk77FQFoTZy",
    "mVJKauqYoTZz",
    "eP5wGYdeoTZ5",
    "kO68aHLLoTZ5"
   ],
   "name": "final_exercice_solution.ipynb",
   "provenance": []
  },
  "kernelspec": {
   "display_name": "Python 3",
   "language": "python",
   "name": "python3"
  },
  "language_info": {
   "codemirror_mode": {
    "name": "ipython",
    "version": 3
   },
   "file_extension": ".py",
   "mimetype": "text/x-python",
   "name": "python",
   "nbconvert_exporter": "python",
   "pygments_lexer": "ipython3",
   "version": "3.12.9"
  }
 },
 "nbformat": 4,
 "nbformat_minor": 0
}
